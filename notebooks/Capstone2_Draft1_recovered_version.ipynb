{
 "cells": [
  {
   "cell_type": "markdown",
   "metadata": {},
   "source": [
    " This file wrangles tweets for the Capstone2 project and saves them as .csv files"
   ]
  },
  {
   "cell_type": "code",
   "execution_count": 3,
   "metadata": {},
   "outputs": [],
   "source": [
    "# References:\n",
    "# Twitter API Tutorial: http://socialmedia-class.org/twittertutorial.html\n",
    "# https://campus.datacamp.com/courses/importing-data-in-python-part-2/diving-deep-into-the-twitter-api?ex=1\n",
    "# http://docs.tweepy.org/en/v3.5.0/getting_started.html\n",
    "# https://www.earthdatascience.org/courses/earth-analytics-python/using-apis-natural-language-processing-twitter/get-and-use-twitter-data-in-python/\n",
    "# https://developer.twitter.com/en/docs/tweets/data-dictionary/overview/tweet-object\n",
    "# List of state abbreviations: # Reference: https://gist.github.com/JeffPaine/3083347\n",
    "# List of state names: # Reference: https://python-forum.io/Thread-list-of-US-states\n",
    "# Dictionary for state names and abbreviations: # Reference: http://code.activestate.com/recipes/577305-python-dictionary-of-us-states-and-territories/\n",
    "\n",
    "# Defining Twitter API search terms: https://www.earthdatascience.org/courses/earth-analytics-python/using-apis-natural-language-processing-twitter/get-and-use-twitter-data-in-python/\n",
    "# Defining Twitter API search terms: https://unionmetrics.com/resources/how-to-use-advanced-twitter-search-queries/\n",
    "# Defining Twitter API search terms: https://developer.twitter.com/en/docs/tweets/search/guides/standard-operators"
   ]
  },
  {
   "cell_type": "code",
   "execution_count": 5,
   "metadata": {},
   "outputs": [],
   "source": [
    "from datetime import datetime, timedelta\n",
    "import pandas as  pd\n",
    "pd.set_option('display.max_rows', 500)\n",
    "pd.set_option('display.max_columns', 500)\n",
    "pd.set_option('display.max_colwidth', 10000)\n",
    "import time\n",
    "import tweepy as tw\n",
    "import json\n",
    "import pickle\n",
    "from tqdm import tqdm"
   ]
  },
  {
   "cell_type": "code",
   "execution_count": 6,
   "metadata": {},
   "outputs": [],
   "source": [
    "# Dictionary of US State abbreviations and names to use for filtering tweets from the US\n",
    "states = {\n",
    "        'AK': 'Alaska',\n",
    "        'AL': 'Alabama',\n",
    "        'AR': 'Arkansas',\n",
    "        'AS': 'American Samoa',\n",
    "        'AZ': 'Arizona',\n",
    "        'CA': 'California',\n",
    "        'CO': 'Colorado',\n",
    "        'CT': 'Connecticut',\n",
    "        'DC': 'District of Columbia',\n",
    "        'DE': 'Delaware',\n",
    "        'FL': 'Florida',\n",
    "        'GA': 'Georgia',\n",
    "        'GU': 'Guam',\n",
    "        'HI': 'Hawaii',\n",
    "        'IA': 'Iowa',\n",
    "        'ID': 'Idaho',\n",
    "        'IL': 'Illinois',\n",
    "        'IN': 'Indiana',\n",
    "        'KS': 'Kansas',\n",
    "        'KY': 'Kentucky',\n",
    "        'LA': 'Louisiana',\n",
    "        'MA': 'Massachusetts',\n",
    "        'MD': 'Maryland',\n",
    "        'ME': 'Maine',\n",
    "        'MI': 'Michigan',\n",
    "        'MN': 'Minnesota',\n",
    "        'MO': 'Missouri',\n",
    "        'MP': 'Northern Mariana Islands',\n",
    "        'MS': 'Mississippi',\n",
    "        'MT': 'Montana',\n",
    "        'NA': 'National',\n",
    "        'NC': 'North Carolina',\n",
    "        'ND': 'North Dakota',\n",
    "        'NE': 'Nebraska',\n",
    "        'NH': 'New Hampshire',\n",
    "        'NJ': 'New Jersey',\n",
    "        'NM': 'New Mexico',\n",
    "        'NV': 'Nevada',\n",
    "        'NY': 'New York',\n",
    "        'OH': 'Ohio',\n",
    "        'OK': 'Oklahoma',\n",
    "        'OR': 'Oregon',\n",
    "        'PA': 'Pennsylvania',\n",
    "        'PR': 'Puerto Rico',\n",
    "        'RI': 'Rhode Island',\n",
    "        'SC': 'South Carolina',\n",
    "        'SD': 'South Dakota',\n",
    "        'TN': 'Tennessee',\n",
    "        'TX': 'Texas',\n",
    "        'UT': 'Utah',\n",
    "        'VA': 'Virginia',\n",
    "        'VI': 'Virgin Islands',\n",
    "        'VT': 'Vermont',\n",
    "        'WA': 'Washington',\n",
    "        'WI': 'Wisconsin',\n",
    "        'WV': 'West Virginia',\n",
    "        'WY': 'Wyoming'\n",
    "}\n",
    "# Reference: http://code.activestate.com/recipes/577305-python-dictionary-of-us-states-and-territories/"
   ]
  },
  {
   "cell_type": "code",
   "execution_count": 7,
   "metadata": {},
   "outputs": [],
   "source": [
    "# CAUTION: DO NOT SHARE THIS INFORMATION\n",
    "# Personal API Keys from the Twitter App page\n",
    "\n",
    "access_token = \"BIG SECRET"\n",
    "access_token_secret = \"BIG SECRET"\n",
    "consumer_key = \"BIG SECRET"\n",
    "consumer_secret = \"BIG SECRET"\n",
    "\n",
    "auth = tw.OAuthHandler(consumer_key, consumer_secret)\n",
    "auth.set_access_token(access_token, access_token_secret)\n",
    "\n",
    "# Create the api to connect to twitter with your credentials\n",
    "api = tw.API(auth, wait_on_rate_limit=True, wait_on_rate_limit_notify=True, compression=True)"
   ]
  },
  {
   "cell_type": "code",
   "execution_count": null,
   "metadata": {},
   "outputs": [],
   "source": [
    "# Toy code for posting a tweet using Python\n",
    "# Posted the following two tweets below on 1/26/20\n",
    "#api.update_status(\"Posting a tweet to test the Twitter API\")\n",
    "#api.update_status(\"Having fun using Python to post to Twitter\")\n",
    "#api.update_status(\"Testing my Twitter project using this tag: #Sarcasm\")\n",
    "#api.update_status(\"Testing my Twitter project using this tag also: #sarcasm\")\n",
    "#api.update_status(\"Testing my Twitter project using this tag also: #Python\")\n",
    "# Reference: https://www.earthdatascience.org/courses/earth-analytics-python/using-apis-natural-language-processing-twitter/get-and-use-twitter-data-in-python/"
   ]
  },
  {
   "cell_type": "code",
   "execution_count": 28,
   "metadata": {},
   "outputs": [
    {
     "name": "stdout",
     "output_type": "stream",
     "text": [
      "['RT @DeathStarPR: Very sad to announce that we have been forced to blow up Alderaan for the good of the galactic economy but rest assured th…', 'Your Dark Lord can touch his face anytime he wants. #goodtobeme https://t.co/cUT31vBXMQ', 'Why not? https://t.co/Y4kZWPUeeo', 'At least I wasn’t impeached.', '@SamHModel Yes?', 'They are altering the deal. Pray they don’t alter it further. https://t.co/0UI2UQshjc', '#DarthVader', '@GaladariMD The mouse is overrated.', 'Something very big has just happened. If you had vacation plans on Alderaan you might want to re-book.', 'Do not forget that I was your very first friend, Threepio. #TheRiseOfSkywalker']\n"
     ]
    }
   ],
   "source": [
    "# Collect twitter data from a single username (@DarthVader) and use to test the pipeline and website\n",
    "\n",
    "vader_tweets = []\n",
    "for tweet in tw.Cursor(api.user_timeline,id='DarthVader').items(150):\n",
    "    vader_tweets.append(tweet.text)\n",
    "\n",
    "print(vader_tweets[:10])\n",
    "# Reference: https://stackoverflow.com/questions/30359801/how-to-successfully-get-all-the-tweets-for-one-user-with-tweepy   \n",
    "# Reference:  https://www.geeksforgeeks.org/extraction-of-tweets-using-tweepy/    \n",
    "# Reference: https://gist.github.com/yanofsky/5436496#file-tweet_dumper-py-L26     \n"
   ]
  },
  {
   "cell_type": "code",
   "execution_count": null,
   "metadata": {},
   "outputs": [],
   "source": [
    "# Define the search terms for collecting sarcastic tweets\n",
    "search_words = (\"#sarcasm OR #Sarcasm OR #Sarcastic OR #sarcastic\") # added #Sarcastic and #sarcastic on 2/22/20 after second round of collecting sarcastic tweets but before second round collecting non-sarcastic tweets\n",
    "search_words_filter = search_words + \"-filter:retweets\" # filter out retweets\n",
    "search_words_filter_geo = search_words + \"-filter:retweets\" + \"filter:has:geo\" # filter out retweets and filter only for tweets containing some ...\n",
    "# ... kind of location data\n",
    "\n",
    "# Reference: https://www.earthdatascience.org/courses/earth-analytics-python/using-apis-natural-language-processing-twitter/get-and-use-twitter-data-in-python/\n",
    "# Reference (tweet location operators): https://developer.twitter.com/en/docs/tutorials/filtering-tweets-by-location"
   ]
  },
  {
   "cell_type": "code",
   "execution_count": 8,
   "metadata": {},
   "outputs": [],
   "source": [
    "# Original function - do not modify\n",
    "# Captures new sarcastic tweets and adds the new tweets to a list using the extend() method to avoid nesting caused by the append() method\n",
    "\n",
    "def collect_sarcastic():\n",
    "    # Collect the maximum number (180) of rate-limited texts under the standard developer agreement\n",
    "    tweets = tw.Cursor(api.search,q=search_words_filter_geo,lang=\"en\",tweet_mode='extended').items(180) # items determines the number of tweets collected. The maximum number determined ...\n",
    "    # ... by rate limits is 180 tweets/15 minutes\n",
    "    #new_sarc_tweets = [[tweet.user.screen_name, tweet.user.location, tweet.created_at, tweet.full_text] for tweet in tweets] # collect attributes of new tweets\n",
    "    new_sarc_tweets = [[tweet.user.screen_name, tweet.user.location, tweet.created_at, tweet.full_text.encode] for tweet in tweets] # added .encode('utf-8') but then finally discovered this was causing byte string symbol issues and removed this syntax\n",
    "    all_sarc_tweets.extend(new_sarc_tweets) # extends the 'all_sarc_tweets' list with new tweets contained in 'new_sarc_tweets'\n",
    "    return(all_sarc_tweets)\n",
    "       "
   ]
  },
  {
   "cell_type": "code",
   "execution_count": 185,
   "metadata": {},
   "outputs": [
    {
     "name": "stdout",
     "output_type": "stream",
     "text": [
      "This script will run for  542.5  minutes or  9.041666666666666  hours\n",
      "This script started at 2020-02-18 08:28:34.001823\n",
      "This script will end at 2020-02-18 17:31:04.004815\n",
      "This script should collect  6300  new tweets\n",
      "When this script is done there should be  104940 total tweets collected so far\n"
     ]
    },
    {
     "name": "stderr",
     "output_type": "stream",
     "text": [
      "\n",
      "\n",
      "\n",
      "\n",
      "\n",
      "\n",
      "\n",
      "\n",
      "\n",
      "\n",
      "\n",
      "\n",
      "  0%|          | 0/35 [00:00<?, ?it/s]"
     ]
    },
    {
     "name": "stdout",
     "output_type": "stream",
     "text": [
      "# tweets collected so far in this while loop 180\n",
      "# remaining collection events in this round 34\n",
      "{'limit': 180, 'remaining': 167, 'reset': 1582044214}\n"
     ]
    },
    {
     "name": "stderr",
     "output_type": "stream",
     "text": [
      "\n",
      "\n",
      "\n",
      "\n",
      "\n",
      "\n",
      "\n",
      "\n",
      "\n",
      "\n",
      "\n",
      "\n",
      "  3%|▎         | 1/35 [02:00<1:08:04, 120.13s/it]"
     ]
    },
    {
     "name": "stdout",
     "output_type": "stream",
     "text": [
      "# tweets collected so far in this while loop 360\n",
      "# remaining collection events in this round 33\n",
      "{'limit': 180, 'remaining': 180, 'reset': 1582045240}\n"
     ]
    },
    {
     "name": "stderr",
     "output_type": "stream",
     "text": [
      "\n",
      "\n",
      "\n",
      "\n",
      "\n",
      "\n",
      "\n",
      "\n",
      "\n",
      "\n",
      "\n",
      "\n",
      "  6%|▌         | 2/35 [17:06<3:15:44, 355.90s/it]"
     ]
    },
    {
     "name": "stdout",
     "output_type": "stream",
     "text": [
      "# tweets collected so far in this while loop 540\n",
      "# remaining collection events in this round 32\n",
      "{'limit': 180, 'remaining': 180, 'reset': 1582046146}\n"
     ]
    },
    {
     "name": "stderr",
     "output_type": "stream",
     "text": [
      "\n",
      "\n",
      "\n",
      "\n",
      "\n",
      "\n",
      "\n",
      "\n",
      "\n",
      "\n",
      "\n",
      "\n",
      "  9%|▊         | 3/35 [32:12<4:37:50, 520.95s/it]"
     ]
    },
    {
     "name": "stdout",
     "output_type": "stream",
     "text": [
      "# tweets collected so far in this while loop 720\n",
      "# remaining collection events in this round 31\n",
      "{'limit': 180, 'remaining': 180, 'reset': 1582047052}\n"
     ]
    },
    {
     "name": "stderr",
     "output_type": "stream",
     "text": [
      "\n",
      "\n",
      "\n",
      "\n",
      "\n",
      "\n",
      "\n",
      "\n",
      "\n",
      "\n",
      "\n",
      "\n",
      " 11%|█▏        | 4/35 [47:18<5:28:49, 636.44s/it]"
     ]
    },
    {
     "name": "stdout",
     "output_type": "stream",
     "text": [
      "# tweets collected so far in this while loop 900\n",
      "# remaining collection events in this round 30\n",
      "{'limit': 180, 'remaining': 180, 'reset': 1582047958}\n"
     ]
    },
    {
     "name": "stderr",
     "output_type": "stream",
     "text": [
      "\n",
      "\n",
      "\n",
      "\n",
      "\n",
      "\n",
      "\n",
      "\n",
      "\n",
      "\n",
      "\n",
      "\n",
      " 14%|█▍        | 5/35 [1:02:24<5:58:38, 717.30s/it]"
     ]
    },
    {
     "name": "stdout",
     "output_type": "stream",
     "text": [
      "# tweets collected so far in this while loop 1080\n",
      "# remaining collection events in this round 29\n",
      "{'limit': 180, 'remaining': 180, 'reset': 1582048864}\n"
     ]
    },
    {
     "name": "stderr",
     "output_type": "stream",
     "text": [
      "\n",
      "\n",
      "\n",
      "\n",
      "\n",
      "\n",
      "\n",
      "\n",
      "\n",
      "\n",
      "\n",
      "\n",
      " 17%|█▋        | 6/35 [1:17:30<6:14:03, 773.91s/it]"
     ]
    },
    {
     "name": "stdout",
     "output_type": "stream",
     "text": [
      "# tweets collected so far in this while loop 1260\n",
      "# remaining collection events in this round 28\n",
      "{'limit': 180, 'remaining': 180, 'reset': 1582049770}\n"
     ]
    },
    {
     "name": "stderr",
     "output_type": "stream",
     "text": [
      "\n",
      "\n",
      "\n",
      "\n",
      "\n",
      "\n",
      "\n",
      "\n",
      "\n",
      "\n",
      "\n",
      "\n",
      " 20%|██        | 7/35 [1:32:36<6:19:39, 813.54s/it]"
     ]
    },
    {
     "name": "stdout",
     "output_type": "stream",
     "text": [
      "# tweets collected so far in this while loop 1440\n",
      "# remaining collection events in this round 27\n",
      "{'limit': 180, 'remaining': 180, 'reset': 1582050676}\n"
     ]
    },
    {
     "name": "stderr",
     "output_type": "stream",
     "text": [
      "\n",
      "\n",
      "\n",
      "\n",
      "\n",
      "\n",
      "\n",
      "\n",
      "\n",
      "\n",
      "\n",
      "\n",
      " 23%|██▎       | 8/35 [1:47:42<6:18:34, 841.28s/it]"
     ]
    },
    {
     "name": "stdout",
     "output_type": "stream",
     "text": [
      "# tweets collected so far in this while loop 1620\n",
      "# remaining collection events in this round 26\n",
      "{'limit': 180, 'remaining': 180, 'reset': 1582051582}\n"
     ]
    },
    {
     "name": "stderr",
     "output_type": "stream",
     "text": [
      "\n",
      "\n",
      "\n",
      "\n",
      "\n",
      "\n",
      "\n",
      "\n",
      "\n",
      "\n",
      "\n",
      "\n",
      " 26%|██▌       | 9/35 [2:02:48<6:12:58, 860.69s/it]"
     ]
    },
    {
     "name": "stdout",
     "output_type": "stream",
     "text": [
      "# tweets collected so far in this while loop 1800\n",
      "# remaining collection events in this round 25\n",
      "{'limit': 180, 'remaining': 180, 'reset': 1582052488}\n"
     ]
    },
    {
     "name": "stderr",
     "output_type": "stream",
     "text": [
      "\n",
      "\n",
      "\n",
      "\n",
      "\n",
      "\n",
      "\n",
      "\n",
      "\n",
      "\n",
      "\n",
      "\n",
      " 29%|██▊       | 10/35 [2:17:54<6:04:17, 874.29s/it]"
     ]
    },
    {
     "name": "stdout",
     "output_type": "stream",
     "text": [
      "# tweets collected so far in this while loop 1980\n",
      "# remaining collection events in this round 24\n",
      "{'limit': 180, 'remaining': 180, 'reset': 1582053394}\n"
     ]
    },
    {
     "name": "stderr",
     "output_type": "stream",
     "text": [
      "\n",
      "\n",
      "\n",
      "\n",
      "\n",
      "\n",
      "\n",
      "\n",
      "\n",
      "\n",
      "\n",
      "\n",
      " 31%|███▏      | 11/35 [2:33:00<5:53:31, 883.80s/it]"
     ]
    },
    {
     "name": "stdout",
     "output_type": "stream",
     "text": [
      "# tweets collected so far in this while loop 2160\n",
      "# remaining collection events in this round 23\n",
      "{'limit': 180, 'remaining': 180, 'reset': 1582054300}\n"
     ]
    },
    {
     "name": "stderr",
     "output_type": "stream",
     "text": [
      "\n",
      "\n",
      "\n",
      "\n",
      "\n",
      "\n",
      "\n",
      "\n",
      "\n",
      "\n",
      "\n",
      "\n",
      " 34%|███▍      | 12/35 [2:48:06<5:41:20, 890.46s/it]"
     ]
    },
    {
     "name": "stdout",
     "output_type": "stream",
     "text": [
      "# tweets collected so far in this while loop 2340\n",
      "# remaining collection events in this round 22\n",
      "{'limit': 180, 'remaining': 180, 'reset': 1582055206}\n"
     ]
    },
    {
     "name": "stderr",
     "output_type": "stream",
     "text": [
      "\n",
      "\n",
      "\n",
      "\n",
      "\n",
      "\n",
      "\n",
      "\n",
      "\n",
      "\n",
      "\n",
      "\n",
      " 37%|███▋      | 13/35 [3:03:12<5:28:12, 895.12s/it]"
     ]
    },
    {
     "name": "stdout",
     "output_type": "stream",
     "text": [
      "# tweets collected so far in this while loop 2520\n",
      "# remaining collection events in this round 21\n",
      "{'limit': 180, 'remaining': 180, 'reset': 1582056112}\n"
     ]
    },
    {
     "name": "stderr",
     "output_type": "stream",
     "text": [
      "\n",
      "\n",
      "\n",
      "\n",
      "\n",
      "\n",
      "\n",
      "\n",
      "\n",
      "\n",
      "\n",
      "\n",
      " 40%|████      | 14/35 [3:18:18<5:14:26, 898.38s/it]"
     ]
    },
    {
     "name": "stdout",
     "output_type": "stream",
     "text": [
      "# tweets collected so far in this while loop 2700\n",
      "# remaining collection events in this round 20\n",
      "{'limit': 180, 'remaining': 180, 'reset': 1582057018}\n"
     ]
    },
    {
     "name": "stderr",
     "output_type": "stream",
     "text": [
      "\n",
      "\n",
      "\n",
      "\n",
      "\n",
      "\n",
      "\n",
      "\n",
      "\n",
      "\n",
      "\n",
      "\n",
      " 43%|████▎     | 15/35 [3:33:24<5:00:13, 900.69s/it]"
     ]
    },
    {
     "name": "stdout",
     "output_type": "stream",
     "text": [
      "# tweets collected so far in this while loop 2880\n",
      "# remaining collection events in this round 19\n",
      "{'limit': 180, 'remaining': 180, 'reset': 1582057925}\n"
     ]
    },
    {
     "name": "stderr",
     "output_type": "stream",
     "text": [
      "\n",
      "\n",
      "\n",
      "\n",
      "\n",
      "\n",
      "\n",
      "\n",
      "\n",
      "\n",
      "\n",
      "\n",
      " 46%|████▌     | 16/35 [3:48:30<4:45:46, 902.47s/it]"
     ]
    },
    {
     "name": "stdout",
     "output_type": "stream",
     "text": [
      "# tweets collected so far in this while loop 3060\n",
      "# remaining collection events in this round 18\n",
      "{'limit': 180, 'remaining': 180, 'reset': 1582058830}\n"
     ]
    },
    {
     "name": "stderr",
     "output_type": "stream",
     "text": [
      "\n",
      "\n",
      "\n",
      "\n",
      "\n",
      "\n",
      "\n",
      "\n",
      "\n",
      "\n",
      "\n",
      "\n",
      " 49%|████▊     | 17/35 [4:03:36<4:30:59, 903.32s/it]"
     ]
    },
    {
     "name": "stdout",
     "output_type": "stream",
     "text": [
      "# tweets collected so far in this while loop 3240\n",
      "# remaining collection events in this round 17\n",
      "{'limit': 180, 'remaining': 180, 'reset': 1582059736}\n"
     ]
    },
    {
     "name": "stderr",
     "output_type": "stream",
     "text": [
      "\n",
      "\n",
      "\n",
      "\n",
      "\n",
      "\n",
      "\n",
      "\n",
      "\n",
      "\n",
      "\n",
      "\n",
      " 51%|█████▏    | 18/35 [4:18:42<4:16:10, 904.13s/it]"
     ]
    },
    {
     "name": "stdout",
     "output_type": "stream",
     "text": [
      "# tweets collected so far in this while loop 3420\n",
      "# remaining collection events in this round 16\n",
      "{'limit': 180, 'remaining': 180, 'reset': 1582060642}\n"
     ]
    },
    {
     "name": "stderr",
     "output_type": "stream",
     "text": [
      "\n",
      "\n",
      "\n",
      "\n",
      "\n",
      "\n",
      "\n",
      "\n",
      "\n",
      "\n",
      "\n",
      "\n",
      " 54%|█████▍    | 19/35 [4:33:48<4:01:15, 904.69s/it]"
     ]
    },
    {
     "name": "stdout",
     "output_type": "stream",
     "text": [
      "# tweets collected so far in this while loop 3600\n",
      "# remaining collection events in this round 15\n",
      "{'limit': 180, 'remaining': 180, 'reset': 1582061548}\n"
     ]
    },
    {
     "name": "stderr",
     "output_type": "stream",
     "text": [
      "\n",
      "\n",
      "\n",
      "\n",
      "\n",
      "\n",
      "\n",
      "\n",
      "\n",
      "\n",
      "\n",
      "\n",
      " 57%|█████▋    | 20/35 [4:48:54<3:46:16, 905.08s/it]"
     ]
    },
    {
     "name": "stdout",
     "output_type": "stream",
     "text": [
      "# tweets collected so far in this while loop 3780\n",
      "# remaining collection events in this round 14\n",
      "{'limit': 180, 'remaining': 180, 'reset': 1582062454}\n"
     ]
    },
    {
     "name": "stderr",
     "output_type": "stream",
     "text": [
      "\n",
      "\n",
      "\n",
      "\n",
      "\n",
      "\n",
      "\n",
      "\n",
      "\n",
      "\n",
      "\n",
      "\n",
      " 60%|██████    | 21/35 [5:04:00<3:31:15, 905.36s/it]"
     ]
    },
    {
     "name": "stdout",
     "output_type": "stream",
     "text": [
      "# tweets collected so far in this while loop 3960\n",
      "# remaining collection events in this round 13\n",
      "{'limit': 180, 'remaining': 180, 'reset': 1582063360}\n"
     ]
    },
    {
     "name": "stderr",
     "output_type": "stream",
     "text": [
      "\n",
      "\n",
      "\n",
      "\n",
      "\n",
      "\n",
      "\n",
      "\n",
      "\n",
      "\n",
      "\n",
      "\n",
      " 63%|██████▎   | 22/35 [5:19:06<3:16:12, 905.55s/it]"
     ]
    },
    {
     "name": "stdout",
     "output_type": "stream",
     "text": [
      "# tweets collected so far in this while loop 4140\n",
      "# remaining collection events in this round 12\n",
      "{'limit': 180, 'remaining': 180, 'reset': 1582064268}\n"
     ]
    },
    {
     "name": "stderr",
     "output_type": "stream",
     "text": [
      "\n",
      "\n",
      "\n",
      "\n",
      "\n",
      "\n",
      "\n",
      "\n",
      "\n",
      "\n",
      "\n",
      "\n",
      " 66%|██████▌   | 23/35 [5:34:13<3:01:12, 906.05s/it]"
     ]
    },
    {
     "name": "stdout",
     "output_type": "stream",
     "text": [
      "# tweets collected so far in this while loop 4320\n",
      "# remaining collection events in this round 11\n",
      "{'limit': 180, 'remaining': 180, 'reset': 1582065172}\n"
     ]
    },
    {
     "name": "stderr",
     "output_type": "stream",
     "text": [
      "\n",
      "\n",
      "\n",
      "\n",
      "\n",
      "\n",
      "\n",
      "\n",
      "\n",
      "\n",
      "\n",
      "\n",
      " 69%|██████▊   | 24/35 [5:49:18<2:46:02, 905.67s/it]"
     ]
    },
    {
     "name": "stdout",
     "output_type": "stream",
     "text": [
      "# tweets collected so far in this while loop 4500\n",
      "# remaining collection events in this round 10\n",
      "{'limit': 180, 'remaining': 180, 'reset': 1582066078}\n"
     ]
    },
    {
     "name": "stderr",
     "output_type": "stream",
     "text": [
      "\n",
      "\n",
      "\n",
      "\n",
      "\n",
      "\n",
      "\n",
      "\n",
      "\n",
      "\n",
      "\n",
      "\n",
      " 71%|███████▏  | 25/35 [6:04:24<2:30:57, 905.77s/it]"
     ]
    },
    {
     "name": "stdout",
     "output_type": "stream",
     "text": [
      "# tweets collected so far in this while loop 4680\n",
      "# remaining collection events in this round 9\n",
      "{'limit': 180, 'remaining': 180, 'reset': 1582066984}\n"
     ]
    },
    {
     "name": "stderr",
     "output_type": "stream",
     "text": [
      "\n",
      "\n",
      "\n",
      "\n",
      "\n",
      "\n",
      "\n",
      "\n",
      "\n",
      "\n",
      "\n",
      "\n",
      " 74%|███████▍  | 26/35 [6:19:30<2:15:52, 905.84s/it]"
     ]
    },
    {
     "name": "stdout",
     "output_type": "stream",
     "text": [
      "# tweets collected so far in this while loop 4860\n",
      "# remaining collection events in this round 8\n",
      "{'limit': 180, 'remaining': 180, 'reset': 1582067890}\n"
     ]
    },
    {
     "name": "stderr",
     "output_type": "stream",
     "text": [
      "\n",
      "\n",
      "\n",
      "\n",
      "\n",
      "\n",
      "\n",
      "\n",
      "\n",
      "\n",
      "\n",
      "\n",
      " 77%|███████▋  | 27/35 [6:34:36<2:00:47, 905.89s/it]"
     ]
    },
    {
     "name": "stdout",
     "output_type": "stream",
     "text": [
      "# tweets collected so far in this while loop 5040\n",
      "# remaining collection events in this round 7\n",
      "{'limit': 180, 'remaining': 180, 'reset': 1582068796}\n"
     ]
    },
    {
     "name": "stderr",
     "output_type": "stream",
     "text": [
      "\n",
      "\n",
      "\n",
      "\n",
      "\n",
      "\n",
      "\n",
      "\n",
      "\n",
      "\n",
      "\n",
      "\n",
      " 80%|████████  | 28/35 [6:49:42<1:45:41, 905.92s/it]"
     ]
    },
    {
     "name": "stdout",
     "output_type": "stream",
     "text": [
      "# tweets collected so far in this while loop 5220\n",
      "# remaining collection events in this round 6\n",
      "{'limit': 180, 'remaining': 180, 'reset': 1582069702}\n"
     ]
    },
    {
     "name": "stderr",
     "output_type": "stream",
     "text": [
      "\n",
      "\n",
      "\n",
      "\n",
      "\n",
      "\n",
      "\n",
      "\n",
      "\n",
      "\n",
      "\n",
      "\n",
      " 83%|████████▎ | 29/35 [7:04:48<1:30:35, 905.94s/it]"
     ]
    },
    {
     "name": "stdout",
     "output_type": "stream",
     "text": [
      "# tweets collected so far in this while loop 5400\n",
      "# remaining collection events in this round 5\n",
      "{'limit': 180, 'remaining': 180, 'reset': 1582070608}\n"
     ]
    },
    {
     "name": "stderr",
     "output_type": "stream",
     "text": [
      "\n",
      "\n",
      "\n",
      "\n",
      "\n",
      "\n",
      "\n",
      "\n",
      "\n",
      "\n",
      "\n",
      "\n",
      " 86%|████████▌ | 30/35 [7:19:54<1:15:29, 905.96s/it]"
     ]
    },
    {
     "name": "stdout",
     "output_type": "stream",
     "text": [
      "# tweets collected so far in this while loop 5580\n",
      "# remaining collection events in this round 4\n",
      "{'limit': 180, 'remaining': 180, 'reset': 1582071514}\n"
     ]
    },
    {
     "name": "stderr",
     "output_type": "stream",
     "text": [
      "\n",
      "\n",
      "\n",
      "\n",
      "\n",
      "\n",
      "\n",
      "\n",
      "\n",
      "\n",
      "\n",
      "\n",
      " 89%|████████▊ | 31/35 [7:35:00<1:00:23, 905.97s/it]"
     ]
    },
    {
     "name": "stdout",
     "output_type": "stream",
     "text": [
      "# tweets collected so far in this while loop 5760\n",
      "# remaining collection events in this round 3\n",
      "{'limit': 180, 'remaining': 180, 'reset': 1582072420}\n"
     ]
    },
    {
     "name": "stderr",
     "output_type": "stream",
     "text": [
      "\n",
      "\n",
      "\n",
      "\n",
      "\n",
      "\n",
      "\n",
      "\n",
      "\n",
      "\n",
      "\n",
      "\n",
      " 91%|█████████▏| 32/35 [7:50:06<45:17, 905.98s/it]  "
     ]
    },
    {
     "name": "stdout",
     "output_type": "stream",
     "text": [
      "# tweets collected so far in this while loop 5940\n",
      "# remaining collection events in this round 2\n",
      "{'limit': 180, 'remaining': 180, 'reset': 1582073326}\n"
     ]
    },
    {
     "name": "stderr",
     "output_type": "stream",
     "text": [
      "\n",
      "\n",
      "\n",
      "\n",
      "\n",
      "\n",
      "\n",
      "\n",
      "\n",
      "\n",
      "\n",
      "\n",
      " 94%|█████████▍| 33/35 [8:05:12<30:11, 905.98s/it]"
     ]
    },
    {
     "name": "stdout",
     "output_type": "stream",
     "text": [
      "# tweets collected so far in this while loop 6120\n",
      "# remaining collection events in this round 1\n",
      "{'limit': 180, 'remaining': 180, 'reset': 1582074232}\n"
     ]
    },
    {
     "name": "stderr",
     "output_type": "stream",
     "text": [
      "\n",
      "\n",
      "\n",
      "\n",
      "\n",
      "\n",
      "\n",
      "\n",
      "\n",
      "\n",
      "\n",
      "\n",
      " 97%|█████████▋| 34/35 [8:20:18<15:05, 905.99s/it]"
     ]
    },
    {
     "name": "stdout",
     "output_type": "stream",
     "text": [
      "# tweets collected so far in this while loop 6300\n",
      "# remaining collection events in this round 0\n",
      "{'limit': 180, 'remaining': 180, 'reset': 1582075138}\n"
     ]
    },
    {
     "name": "stderr",
     "output_type": "stream",
     "text": [
      "\n",
      "\n",
      "\n",
      "\n",
      "\n",
      "\n",
      "\n",
      "\n",
      "\n",
      "\n",
      "\n",
      "\n",
      "100%|██████████| 35/35 [8:35:24<00:00, 905.99s/it]"
     ]
    },
    {
     "name": "stdout",
     "output_type": "stream",
     "text": [
      "Total # of sarcastic tweets collected in this while loop that is now completed: 6300\n",
      "Total # of sarcastic tweets collected over all while loops executed: 104940\n"
     ]
    }
   ],
   "source": [
    "# This cell collects sarcastic tweets and includes a progress bar \n",
    "# The key parameters to adjust are collection events, time.sleep(#) where the number is the seconds between calls of the 'collect_sarcastic' function, as well as ....\n",
    "# .... items(180) # items determines the number of tweets collected which is found in the 'collect_sarcastic' function. The number of items collected is specicified...\n",
    "# ... in the collect_sarcastic function\n",
    "# Note: lower the number of tweets collected in the 'collect_sarcastic' function before testing and reduce the time in the first time.sleep call before testing\n",
    "\n",
    "# Print some description information about the series of calls to the collect_sarcastic function\n",
    "collection_events = 35\n",
    "minutes = collection_events * 15.5\n",
    "hours = minutes/60\n",
    "print(\"This script will run for \", minutes, \" minutes or \", hours, \" hours\")\n",
    "start_time = datetime.now()\n",
    "print(\"This script started at\", start_time)\n",
    "end_time = datetime.now() + timedelta(hours=hours)\n",
    "print(\"This script will end at\", end_time)\n",
    "print(\"This script should collect \",180*collection_events, \" new tweets\")\n",
    "print(\"When this script is done there should be \", ((180*collection_events) + (len(sarc_tweets_master))), \"total tweets collected so far\")\n",
    "\n",
    "# Execute the collect_sarcastic function periodically given Twitter API rate limits\n",
    "pbar = tqdm(range(collection_events)) # set the number of collection events. Each event is spaced by 930 seconds (15.5 minutes) due to the 15 minute Twitter rate limit\n",
    "for num in pbar:\n",
    "    collect_sarcastic()\n",
    "    #time.sleep(930.0 - ((time.time() - starttime) % 930.0)) # throws an error, although worked originally\n",
    "    time.sleep(906 - (datetime.now() - starttime).total_seconds() % 906) # execute the function every number of seconds (930 seconds = 15.5 minutes)\n",
    "    print(\"# tweets collected so far in this while loop\", len(all_sarc_tweets))\n",
    "    collection_events = collection_events -1\n",
    "    print(\"# remaining collection events in this round\", collection_events)\n",
    "    rate = api.rate_limit_status()\n",
    "    print(rate['resources']['search']['/search/tweets'])\n",
    "time.sleep(0.25)\n",
    "pbar.set_description(\"Processing %s\" % num)\n",
    "\n",
    "# Reference: https://stackoverflow.com/questions/474528/what-is-the-best-way-to-repeatedly-execute-a-function-every-x-seconds-in-python \n",
    "# Add the tweets collected in the current series of calls of the collect_sarcastic function to the master list of all sarcastic tweets collected so far\n",
    "sarc_tweets_master.extend(all_sarc_tweets) # extend the master list of tweets by the new tweets accumulated in 'all_sarc_tweets' for each call to 'collect_sarcastic'\n",
    "\n",
    "# Pickle all of the sarcastic tweets collected so far to protect against accidental loss\n",
    "filename = 'sarc_tweets_master_pickle2' # Pickle all the collected tweets to save a copy to disk\n",
    "outfile = open(filename, 'wb')\n",
    "pickle.dump(sarc_tweets_master, outfile)\n",
    "outfile.close()\n",
    "# Reference: https://www.datacamp.com/community/tutorials/pickle-python-tutorial\n",
    "\n",
    "# Print some progress information and clear the 'all_sarc_tweets' list so it can be re-used\n",
    "print(\"Total # of sarcastic tweets collected in this while loop that is now completed:\",len(all_sarc_tweets))\n",
    "all_sarc_tweets = [] # clear the 'all_sarc_tweets' list so 'sarc_tweets_master' doesn't accumulate duplicate tweets\n",
    "assert len(all_sarc_tweets) == 0\n",
    "print(\"Total # of sarcastic tweets collected over all while loops executed:\", len(sarc_tweets_master))"
   ]
  },
  {
   "cell_type": "code",
   "execution_count": 9,
   "metadata": {},
   "outputs": [
    {
     "name": "stdout",
     "output_type": "stream",
     "text": [
      "[['dflenick', 'Davie, FL', datetime.datetime(2020, 2, 11, 20, 3, 56), b'RT @TribulationThe: Deep State Dems continue to ATTACK EACH OTHER!  BUST OUT POPCORN!!!  \\xf0\\x9f\\x8d\\xbf\\xf0\\x9f\\x8d\\xbf\\xf0\\x9f\\x8d\\xbf\\n\\nTHE CLINTON MACHINE WILL DO ANYTHING TO STOP\\xe2\\x80\\xa6'], ['RestartMIGA6', '', datetime.datetime(2020, 2, 11, 20, 3, 54), b'RT @restartleader: The Republicans of America defended @realDonaldTrump robustly &amp; wholeheartedly.\\n\\nThe truth always wins.\\n\\nNot only the pa\\xe2\\x80\\xa6'], ['RayeannJ', 'California, USA', datetime.datetime(2020, 2, 11, 20, 3, 54), b'RT @DeeTwoCents: This is the Republican\\xe2\\x80\\x99s manifesto! Look at the cuts to the budget that #Trump and Republicans are making as they claim a\\xe2\\x80\\xa6']]\n"
     ]
    }
   ],
   "source": [
    "# unpickle 'sarc_tweets_master'\n",
    "filename = 'sarc_tweets_master_pickle2'\n",
    "infile = open(filename,'rb')\n",
    "new_list = pickle.load(infile)\n",
    "infile.close()\n",
    "print(new_list[0:3])"
   ]
  },
  {
   "cell_type": "code",
   "execution_count": 10,
   "metadata": {},
   "outputs": [
    {
     "data": {
      "text/plain": [
       "104940"
      ]
     },
     "execution_count": 10,
     "metadata": {},
     "output_type": "execute_result"
    }
   ],
   "source": [
    "sarc_tweets_master = new_list.copy()\n",
    "len(sarc_tweets_master)"
   ]
  },
  {
   "cell_type": "code",
   "execution_count": 11,
   "metadata": {},
   "outputs": [
    {
     "data": {
      "text/html": [
       "<div>\n",
       "<style scoped>\n",
       "    .dataframe tbody tr th:only-of-type {\n",
       "        vertical-align: middle;\n",
       "    }\n",
       "\n",
       "    .dataframe tbody tr th {\n",
       "        vertical-align: top;\n",
       "    }\n",
       "\n",
       "    .dataframe thead th {\n",
       "        text-align: right;\n",
       "    }\n",
       "</style>\n",
       "<table border=\"1\" class=\"dataframe\">\n",
       "  <thead>\n",
       "    <tr style=\"text-align: right;\">\n",
       "      <th></th>\n",
       "      <th>user</th>\n",
       "      <th>location</th>\n",
       "      <th>date</th>\n",
       "      <th>text</th>\n",
       "    </tr>\n",
       "  </thead>\n",
       "  <tbody>\n",
       "    <tr>\n",
       "      <th>0</th>\n",
       "      <td>dflenick</td>\n",
       "      <td>Davie, FL</td>\n",
       "      <td>2020-02-11 20:03:56</td>\n",
       "      <td>b'RT @TribulationThe: Deep State Dems continue to ATTACK EACH OTHER!  BUST OUT POPCORN!!!  \\xf0\\x9f\\x8d\\xbf\\xf0\\x9f\\x8d\\xbf\\xf0\\x9f\\x8d\\xbf\\n\\nTHE CLINTON MACHINE WILL DO ANYTHING TO STOP\\xe2\\x80\\xa6'</td>\n",
       "    </tr>\n",
       "    <tr>\n",
       "      <th>1</th>\n",
       "      <td>RestartMIGA6</td>\n",
       "      <td></td>\n",
       "      <td>2020-02-11 20:03:54</td>\n",
       "      <td>b'RT @restartleader: The Republicans of America defended @realDonaldTrump robustly &amp;amp; wholeheartedly.\\n\\nThe truth always wins.\\n\\nNot only the pa\\xe2\\x80\\xa6'</td>\n",
       "    </tr>\n",
       "  </tbody>\n",
       "</table>\n",
       "</div>"
      ],
      "text/plain": [
       "           user   location                date  \\\n",
       "0      dflenick  Davie, FL 2020-02-11 20:03:56   \n",
       "1  RestartMIGA6            2020-02-11 20:03:54   \n",
       "\n",
       "                                                                                                                                                                                                       text  \n",
       "0  b'RT @TribulationThe: Deep State Dems continue to ATTACK EACH OTHER!  BUST OUT POPCORN!!!  \\xf0\\x9f\\x8d\\xbf\\xf0\\x9f\\x8d\\xbf\\xf0\\x9f\\x8d\\xbf\\n\\nTHE CLINTON MACHINE WILL DO ANYTHING TO STOP\\xe2\\x80\\xa6'  \n",
       "1                                        b'RT @restartleader: The Republicans of America defended @realDonaldTrump robustly &amp; wholeheartedly.\\n\\nThe truth always wins.\\n\\nNot only the pa\\xe2\\x80\\xa6'  "
      ]
     },
     "execution_count": 11,
     "metadata": {},
     "output_type": "execute_result"
    }
   ],
   "source": [
    "# Read the sarcastic tweets collected to date into a DF 'sarc_df'\n",
    "sarc_df = pd.DataFrame(sarc_tweets_master, columns = ['user', 'location','date','text'])\n",
    "sarc_df.head(2)"
   ]
  },
  {
   "cell_type": "code",
   "execution_count": 12,
   "metadata": {},
   "outputs": [],
   "source": [
    "# Save a copy of the DF 'sarc_df' containing sarcastic tweets to a .csv\n",
    "# The .csv format conversion is needed for reading the data into the preprocessing notebook and into the predictor_api.py which preprocesses ...\n",
    "# ... the data for use with Flask\n",
    "# This is the second round of sarcastic tweets 'sarc_df2.csv' collected 2/11/20 - 2/18/20\n",
    "sarc_df.to_csv('sarc_df2.csv', encoding='utf-8')\n",
    "# Reference: McKinney pg 175"
   ]
  },
  {
   "cell_type": "code",
   "execution_count": 13,
   "metadata": {},
   "outputs": [
    {
     "data": {
      "text/plain": [
       "0        dflenick\n",
       "1    RestartMIGA6\n",
       "2        RayeannJ\n",
       "Name: user, dtype: object"
      ]
     },
     "execution_count": 13,
     "metadata": {},
     "output_type": "execute_result"
    }
   ],
   "source": [
    "# Create a series containing the screen names from the current DF containing sarcastic tweets\n",
    "# The 'non_sarcastic' function refers to this object's index and usernames when collecting tweets from the...\n",
    "# ...same screen names\n",
    "sarc_screen_names = sarc_df['user']\n",
    "sarc_screen_names.head(3)"
   ]
  },
  {
   "cell_type": "code",
   "execution_count": 14,
   "metadata": {},
   "outputs": [],
   "source": [
    "# Define the search terms for collecting tweets from the same screen names as the sarcastic tweets\n",
    "search_words = (\"-#sarcasm OR -#Sarcasm OR -#Sarcastic OR -#sarcastic\") # added #Sarcastic and #sarcastic on 2/22/20\n",
    "search_words_filter = search_words + \"-filter:retweets\" # filter out retweets\n",
    "search_words_filter_geo = search_words + \"-filter:retweets\" + \"filter:has:geo\" # filter out retweets and filter only for tweets containing some ...\n",
    "# ... kind of location data\n",
    "\n",
    "# Reference: https://www.earthdatascience.org/courses/earth-analytics-python/using-apis-natural-language-processing-twitter/get-and-use-twitter-data-in-python/\n",
    "# Reference (tweet location operators): https://developer.twitter.com/en/docs/tutorials/filtering-tweets-by-location"
   ]
  },
  {
   "cell_type": "code",
   "execution_count": 8,
   "metadata": {},
   "outputs": [],
   "source": [
    "# Original function - do not modify\n",
    "# Captures new sarcastic tweets and adds the new tweets to a list using the extend() method to avoid nesting caused by the append() method\n",
    "\n",
    "def collect_sarcastic():\n",
    "    # Collect the maximum number (180) of rate-limited texts under the standard developer agreement\n",
    "    tweets = tw.Cursor(api.search,q=search_words_filter_geo,lang=\"en\",tweet_mode='extended').items(180) # items determines the number of tweets collected. The maximum number determined ...\n",
    "    # ... by rate limits is 180 tweets/15 minutes\n",
    "    #new_sarc_tweets = [[tweet.user.screen_name, tweet.user.location, tweet.created_at, tweet.full_text] for tweet in tweets] # collect attributes of new tweets\n",
    "    new_sarc_tweets = [[tweet.user.screen_name, tweet.user.location, tweet.created_at, tweet.full_text.encode] for tweet in tweets] # added .encode('utf-8') but then finally discovered this was causing byte string symbol issues and removed this syntax\n",
    "    all_sarc_tweets.extend(new_sarc_tweets) # extends the 'all_sarc_tweets' list with new tweets contained in 'new_sarc_tweets'\n",
    "    return(all_sarc_tweets)\n",
    "       "
   ]
  },
  {
   "cell_type": "code",
   "execution_count": 20,
   "metadata": {},
   "outputs": [],
   "source": [
    "# Working Version - do not modify\n",
    "# Collects tweets from specific screen names, used to collect tweets from same screen names producing sarcastic tweets\n",
    "# Does not filter the tweets for their contents (retweets,English language, etc.) which must occur during an additional preprocessing step\n",
    "\n",
    "def collect_screen_name_tweets(screen_names):  \n",
    "    new_tweets = []\n",
    "    for screen_name in screen_names:\n",
    "        #print('all_new_tweets before appending new tweet info:',all_new_tweets) # debugging print statement\n",
    "        #print('current screen name:',screen_name) # debugging print statement\n",
    "        \n",
    "        try:\n",
    "   \n",
    "            new_tweets = api.user_timeline(screen_name = screen_name, count=1)\n",
    "\n",
    "        except tw.TweepError:\n",
    "            print(\"Failed to run the command on that user, Skipping...\")\n",
    "    \n",
    "        new_tweet_info = [[tweet.user.screen_name, tweet.user.location, tweet.created_at, tweet.text] for tweet in new_tweets] \n",
    "        \n",
    "        #print('current new_tweet_info:',new_tweet_info) # debugging print statement\n",
    "         \n",
    "        all_new_tweets.extend(new_tweet_info)\n",
    "        #all_new_tweets.append(new_tweet_info)\n",
    "        #print('all_new_tweets after appending current new tweet info:',all_new_tweets) # debugging print statement\n",
    "    \n",
    "    #print('final version of all_new_tweets list:', all_new_tweets) # debugging print statement\n",
    "    #print('number of new tweets collected:', len(all_new_tweets)) # debugging print statement\n",
    "    return(all_new_tweets)\n",
    "\n",
    "# Reference: https://stackoverflow.com/questions/36782576/collecting-tweets-using-screen-names-and-saving-them-using-tweepy"
   ]
  },
  {
   "cell_type": "code",
   "execution_count": 62,
   "metadata": {},
   "outputs": [
    {
     "name": "stdout",
     "output_type": "stream",
     "text": [
      "This script will run for  666.5  minutes or  11.108333333333333  hours\n",
      "This script started at 2020-03-06 19:54:44.450911\n",
      "This script will end at 2020-03-07 07:01:14.453903\n",
      "When this script is done there should be  107498 total tweets collected so far\n",
      "This script should collect  7740  new tweets\n"
     ]
    },
    {
     "name": "stderr",
     "output_type": "stream",
     "text": [
      "\n",
      "\n",
      "\n",
      "\n",
      "\n",
      "\n",
      "\n",
      "\n",
      "\n",
      "  0%|          | 0/43 [00:00<?, ?it/s]"
     ]
    },
    {
     "name": "stdout",
     "output_type": "stream",
     "text": [
      "Number of new tweets collected so far:  99758\n",
      "Beginning screen_name_index: 99759\n",
      "Failed to run the command on that user, Skipping...\n",
      "Failed to run the command on that user, Skipping...\n",
      "Failed to run the command on that user, Skipping...\n",
      "The screen_name_index for the current round of collecting tweets is now:  99759\n",
      "The screen_name_index for starting the next round of collecting tweets will be:  99939\n",
      "# tweets collected so far in these series of calls of the 'collect_screen_name_tweets' function:  180\n",
      "# remaining collection events in these series of calls of the 'collect_screen_name_tweets' function:  42\n",
      "{'limit': 180, 'remaining': 180, 'reset': 1583555139}\n"
     ]
    },
    {
     "name": "stderr",
     "output_type": "stream",
     "text": [
      "\n",
      "\n",
      "\n",
      "\n",
      "\n",
      "\n",
      "\n",
      "\n",
      "\n",
      "Processing 0:   0%|          | 0/43 [15:54<?, ?it/s]\n",
      "\n",
      "\n",
      "\n",
      "\n",
      "\n",
      "\n",
      "\n",
      "\n",
      "Processing 0:   2%|▏         | 1/43 [15:54<11:08:04, 954.40s/it]"
     ]
    },
    {
     "name": "stdout",
     "output_type": "stream",
     "text": [
      "Failed to run the command on that user, Skipping...\n",
      "Failed to run the command on that user, Skipping...\n",
      "Failed to run the command on that user, Skipping...\n",
      "The screen_name_index for the current round of collecting tweets is now:  99939\n",
      "The screen_name_index for starting the next round of collecting tweets will be:  100119\n",
      "# tweets collected so far in these series of calls of the 'collect_screen_name_tweets' function:  360\n",
      "# remaining collection events in these series of calls of the 'collect_screen_name_tweets' function:  41\n",
      "{'limit': 180, 'remaining': 180, 'reset': 1583556089}\n"
     ]
    },
    {
     "name": "stderr",
     "output_type": "stream",
     "text": [
      "\n",
      "\n",
      "\n",
      "\n",
      "\n",
      "\n",
      "\n",
      "\n",
      "\n",
      "Processing 1:   2%|▏         | 1/43 [31:44<11:08:04, 954.40s/it]\n",
      "\n",
      "\n",
      "\n",
      "\n",
      "\n",
      "\n",
      "\n",
      "\n",
      "Processing 1:   5%|▍         | 2/43 [31:44<10:51:23, 953.26s/it]"
     ]
    },
    {
     "name": "stdout",
     "output_type": "stream",
     "text": [
      "Failed to run the command on that user, Skipping...\n",
      "Failed to run the command on that user, Skipping...\n",
      "The screen_name_index for the current round of collecting tweets is now:  100119\n",
      "The screen_name_index for starting the next round of collecting tweets will be:  100299\n",
      "# tweets collected so far in these series of calls of the 'collect_screen_name_tweets' function:  540\n",
      "# remaining collection events in these series of calls of the 'collect_screen_name_tweets' function:  40\n",
      "{'limit': 180, 'remaining': 180, 'reset': 1583557045}\n"
     ]
    },
    {
     "name": "stderr",
     "output_type": "stream",
     "text": [
      "\n",
      "\n",
      "\n",
      "\n",
      "\n",
      "\n",
      "\n",
      "\n",
      "\n",
      "Processing 2:   5%|▍         | 2/43 [47:40<10:51:23, 953.26s/it]\n",
      "\n",
      "\n",
      "\n",
      "\n",
      "\n",
      "\n",
      "\n",
      "\n",
      "Processing 2:   7%|▋         | 3/43 [47:40<10:35:56, 953.92s/it]"
     ]
    },
    {
     "name": "stdout",
     "output_type": "stream",
     "text": [
      "Failed to run the command on that user, Skipping...\n",
      "The screen_name_index for the current round of collecting tweets is now:  100299\n",
      "The screen_name_index for starting the next round of collecting tweets will be:  100479\n",
      "# tweets collected so far in these series of calls of the 'collect_screen_name_tweets' function:  720\n",
      "# remaining collection events in these series of calls of the 'collect_screen_name_tweets' function:  39\n",
      "{'limit': 180, 'remaining': 180, 'reset': 1583558092}\n"
     ]
    },
    {
     "name": "stderr",
     "output_type": "stream",
     "text": [
      "\n",
      "\n",
      "\n",
      "\n",
      "\n",
      "\n",
      "\n",
      "\n",
      "\n",
      "Processing 3:   7%|▋         | 3/43 [1:05:07<10:35:56, 953.92s/it]\n",
      "\n",
      "\n",
      "\n",
      "\n",
      "\n",
      "\n",
      "\n",
      "\n",
      "Processing 3:   9%|▉         | 4/43 [1:05:07<10:38:17, 981.98s/it]"
     ]
    },
    {
     "name": "stdout",
     "output_type": "stream",
     "text": [
      "The screen_name_index for the current round of collecting tweets is now:  100479\n",
      "The screen_name_index for starting the next round of collecting tweets will be:  100659\n",
      "# tweets collected so far in these series of calls of the 'collect_screen_name_tweets' function:  899\n",
      "# remaining collection events in these series of calls of the 'collect_screen_name_tweets' function:  38\n",
      "{'limit': 180, 'remaining': 180, 'reset': 1583559120}\n"
     ]
    },
    {
     "name": "stderr",
     "output_type": "stream",
     "text": [
      "\n",
      "\n",
      "\n",
      "\n",
      "\n",
      "\n",
      "\n",
      "\n",
      "\n",
      "Processing 4:   9%|▉         | 4/43 [1:22:15<10:38:17, 981.98s/it]\n",
      "\n",
      "\n",
      "\n",
      "\n",
      "\n",
      "\n",
      "\n",
      "\n",
      "Processing 4:  12%|█▏        | 5/43 [1:22:16<10:30:40, 995.81s/it]"
     ]
    },
    {
     "name": "stdout",
     "output_type": "stream",
     "text": [
      "Failed to run the command on that user, Skipping...\n",
      "Failed to run the command on that user, Skipping...\n",
      "The screen_name_index for the current round of collecting tweets is now:  100659\n",
      "The screen_name_index for starting the next round of collecting tweets will be:  100839\n",
      "# tweets collected so far in these series of calls of the 'collect_screen_name_tweets' function:  1079\n",
      "# remaining collection events in these series of calls of the 'collect_screen_name_tweets' function:  37\n",
      "{'limit': 180, 'remaining': 180, 'reset': 1583560071}\n"
     ]
    },
    {
     "name": "stderr",
     "output_type": "stream",
     "text": [
      "\n",
      "\n",
      "\n",
      "\n",
      "\n",
      "\n",
      "\n",
      "\n",
      "\n",
      "Processing 5:  12%|█▏        | 5/43 [1:38:06<10:30:40, 995.81s/it]\n",
      "\n",
      "\n",
      "\n",
      "\n",
      "\n",
      "\n",
      "\n",
      "\n",
      "Processing 5:  14%|█▍        | 6/43 [1:38:06<10:05:39, 982.16s/it]"
     ]
    },
    {
     "name": "stdout",
     "output_type": "stream",
     "text": [
      "Failed to run the command on that user, Skipping...\n",
      "The screen_name_index for the current round of collecting tweets is now:  100839\n",
      "The screen_name_index for starting the next round of collecting tweets will be:  101019\n",
      "# tweets collected so far in these series of calls of the 'collect_screen_name_tweets' function:  1259\n",
      "# remaining collection events in these series of calls of the 'collect_screen_name_tweets' function:  36\n",
      "{'limit': 180, 'remaining': 180, 'reset': 1583561020}\n"
     ]
    },
    {
     "name": "stderr",
     "output_type": "stream",
     "text": [
      "\n",
      "\n",
      "\n",
      "\n",
      "\n",
      "\n",
      "\n",
      "\n",
      "\n",
      "Processing 6:  14%|█▍        | 6/43 [1:53:55<10:05:39, 982.16s/it]\n",
      "\n",
      "\n",
      "\n",
      "\n",
      "\n",
      "\n",
      "\n",
      "\n",
      "Processing 6:  16%|█▋        | 7/43 [1:53:55<9:43:25, 972.37s/it] "
     ]
    },
    {
     "name": "stdout",
     "output_type": "stream",
     "text": [
      "Failed to run the command on that user, Skipping...\n",
      "Failed to run the command on that user, Skipping...\n",
      "Failed to run the command on that user, Skipping...\n",
      "Failed to run the command on that user, Skipping...\n",
      "Failed to run the command on that user, Skipping...\n",
      "Failed to run the command on that user, Skipping...\n",
      "The screen_name_index for the current round of collecting tweets is now:  101019\n",
      "The screen_name_index for starting the next round of collecting tweets will be:  101199\n",
      "# tweets collected so far in these series of calls of the 'collect_screen_name_tweets' function:  1439\n",
      "# remaining collection events in these series of calls of the 'collect_screen_name_tweets' function:  35\n",
      "{'limit': 180, 'remaining': 180, 'reset': 1583561968}\n"
     ]
    },
    {
     "name": "stderr",
     "output_type": "stream",
     "text": [
      "\n",
      "\n",
      "\n",
      "\n",
      "\n",
      "\n",
      "\n",
      "\n",
      "\n",
      "Processing 7:  16%|█▋        | 7/43 [2:09:44<9:43:25, 972.37s/it]\n",
      "\n",
      "\n",
      "\n",
      "\n",
      "\n",
      "\n",
      "\n",
      "\n",
      "Processing 7:  19%|█▊        | 8/43 [2:09:44<9:23:00, 965.16s/it]"
     ]
    },
    {
     "name": "stdout",
     "output_type": "stream",
     "text": [
      "Failed to run the command on that user, Skipping...\n",
      "Failed to run the command on that user, Skipping...\n",
      "The screen_name_index for the current round of collecting tweets is now:  101199\n",
      "The screen_name_index for starting the next round of collecting tweets will be:  101379\n",
      "# tweets collected so far in these series of calls of the 'collect_screen_name_tweets' function:  1619\n",
      "# remaining collection events in these series of calls of the 'collect_screen_name_tweets' function:  34\n",
      "{'limit': 180, 'remaining': 180, 'reset': 1583562930}\n"
     ]
    },
    {
     "name": "stderr",
     "output_type": "stream",
     "text": [
      "\n",
      "\n",
      "\n",
      "\n",
      "\n",
      "\n",
      "\n",
      "\n",
      "\n",
      "Processing 8:  19%|█▊        | 8/43 [2:25:45<9:23:00, 965.16s/it]\n",
      "\n",
      "\n",
      "\n",
      "\n",
      "\n",
      "\n",
      "\n",
      "\n",
      "Processing 8:  21%|██        | 9/43 [2:25:45<9:06:19, 964.10s/it]"
     ]
    },
    {
     "name": "stdout",
     "output_type": "stream",
     "text": [
      "Failed to run the command on that user, Skipping...\n",
      "Failed to run the command on that user, Skipping...\n",
      "Failed to run the command on that user, Skipping...\n",
      "Failed to run the command on that user, Skipping...\n",
      "Failed to run the command on that user, Skipping...\n",
      "Failed to run the command on that user, Skipping...\n",
      "Failed to run the command on that user, Skipping...\n",
      "Failed to run the command on that user, Skipping...\n",
      "Failed to run the command on that user, Skipping...\n",
      "Failed to run the command on that user, Skipping...\n",
      "The screen_name_index for the current round of collecting tweets is now:  101379\n",
      "The screen_name_index for starting the next round of collecting tweets will be:  101559\n",
      "# tweets collected so far in these series of calls of the 'collect_screen_name_tweets' function:  1799\n",
      "# remaining collection events in these series of calls of the 'collect_screen_name_tweets' function:  33\n",
      "{'limit': 180, 'remaining': 180, 'reset': 1583563887}\n"
     ]
    },
    {
     "name": "stderr",
     "output_type": "stream",
     "text": [
      "\n",
      "\n",
      "\n",
      "\n",
      "\n",
      "\n",
      "\n",
      "\n",
      "\n",
      "Processing 9:  21%|██        | 9/43 [2:41:42<9:06:19, 964.10s/it]\n",
      "\n",
      "\n",
      "\n",
      "\n",
      "\n",
      "\n",
      "\n",
      "\n",
      "Processing 9:  23%|██▎       | 10/43 [2:41:42<8:49:05, 961.98s/it]"
     ]
    },
    {
     "name": "stdout",
     "output_type": "stream",
     "text": [
      "The screen_name_index for the current round of collecting tweets is now:  101559\n",
      "The screen_name_index for starting the next round of collecting tweets will be:  101739\n",
      "# tweets collected so far in these series of calls of the 'collect_screen_name_tweets' function:  1979\n",
      "# remaining collection events in these series of calls of the 'collect_screen_name_tweets' function:  32\n",
      "{'limit': 180, 'remaining': 180, 'reset': 1583564844}\n"
     ]
    },
    {
     "name": "stderr",
     "output_type": "stream",
     "text": [
      "\n",
      "\n",
      "\n",
      "\n",
      "\n",
      "\n",
      "\n",
      "\n",
      "\n",
      "Processing 10:  23%|██▎       | 10/43 [2:57:39<8:49:05, 961.98s/it]\n",
      "\n",
      "\n",
      "\n",
      "\n",
      "\n",
      "\n",
      "\n",
      "\n",
      "Processing 10:  26%|██▌       | 11/43 [2:57:39<8:32:11, 960.36s/it]"
     ]
    },
    {
     "name": "stdout",
     "output_type": "stream",
     "text": [
      "Failed to run the command on that user, Skipping...\n",
      "Failed to run the command on that user, Skipping...\n",
      "Failed to run the command on that user, Skipping...\n",
      "The screen_name_index for the current round of collecting tweets is now:  101739\n",
      "The screen_name_index for starting the next round of collecting tweets will be:  101919\n",
      "# tweets collected so far in these series of calls of the 'collect_screen_name_tweets' function:  2159\n",
      "# remaining collection events in these series of calls of the 'collect_screen_name_tweets' function:  31\n",
      "{'limit': 180, 'remaining': 180, 'reset': 1583565803}\n"
     ]
    },
    {
     "name": "stderr",
     "output_type": "stream",
     "text": [
      "\n",
      "\n",
      "\n",
      "\n",
      "\n",
      "\n",
      "\n",
      "\n",
      "\n",
      "Processing 11:  26%|██▌       | 11/43 [3:13:38<8:32:11, 960.36s/it]\n",
      "\n",
      "\n",
      "\n",
      "\n",
      "\n",
      "\n",
      "\n",
      "\n",
      "Processing 11:  28%|██▊       | 12/43 [3:13:38<8:15:58, 959.97s/it]"
     ]
    },
    {
     "name": "stdout",
     "output_type": "stream",
     "text": [
      "Failed to run the command on that user, Skipping...\n",
      "Failed to run the command on that user, Skipping...\n",
      "Failed to run the command on that user, Skipping...\n",
      "Failed to run the command on that user, Skipping...\n",
      "Failed to run the command on that user, Skipping...\n",
      "The screen_name_index for the current round of collecting tweets is now:  101919\n",
      "The screen_name_index for starting the next round of collecting tweets will be:  102099\n",
      "# tweets collected so far in these series of calls of the 'collect_screen_name_tweets' function:  2339\n",
      "# remaining collection events in these series of calls of the 'collect_screen_name_tweets' function:  30\n",
      "{'limit': 180, 'remaining': 180, 'reset': 1583566768}\n"
     ]
    },
    {
     "name": "stderr",
     "output_type": "stream",
     "text": [
      "\n",
      "\n",
      "\n",
      "\n",
      "\n",
      "\n",
      "\n",
      "\n",
      "\n",
      "Processing 12:  28%|██▊       | 12/43 [3:29:43<8:15:58, 959.97s/it]\n",
      "\n",
      "\n",
      "\n",
      "\n",
      "\n",
      "\n",
      "\n",
      "\n",
      "Processing 12:  30%|███       | 13/43 [3:29:43<8:00:48, 961.61s/it]"
     ]
    },
    {
     "name": "stdout",
     "output_type": "stream",
     "text": [
      "Failed to run the command on that user, Skipping...\n",
      "Failed to run the command on that user, Skipping...\n",
      "Failed to run the command on that user, Skipping...\n",
      "Failed to run the command on that user, Skipping...\n",
      "The screen_name_index for the current round of collecting tweets is now:  102099\n",
      "The screen_name_index for starting the next round of collecting tweets will be:  102279\n",
      "# tweets collected so far in these series of calls of the 'collect_screen_name_tweets' function:  2519\n",
      "# remaining collection events in these series of calls of the 'collect_screen_name_tweets' function:  29\n",
      "{'limit': 180, 'remaining': 180, 'reset': 1583567730}\n"
     ]
    },
    {
     "name": "stderr",
     "output_type": "stream",
     "text": [
      "\n",
      "\n",
      "\n",
      "\n",
      "\n",
      "\n",
      "\n",
      "\n",
      "\n",
      "Processing 13:  30%|███       | 13/43 [3:45:45<8:00:48, 961.61s/it]\n",
      "\n",
      "\n",
      "\n",
      "\n",
      "\n",
      "\n",
      "\n",
      "\n",
      "Processing 13:  33%|███▎      | 14/43 [3:45:45<7:44:42, 961.48s/it]"
     ]
    },
    {
     "name": "stdout",
     "output_type": "stream",
     "text": [
      "Failed to run the command on that user, Skipping...\n",
      "Failed to run the command on that user, Skipping...\n",
      "Failed to run the command on that user, Skipping...\n",
      "The screen_name_index for the current round of collecting tweets is now:  102279\n",
      "The screen_name_index for starting the next round of collecting tweets will be:  102459\n",
      "# tweets collected so far in these series of calls of the 'collect_screen_name_tweets' function:  2699\n",
      "# remaining collection events in these series of calls of the 'collect_screen_name_tweets' function:  28\n",
      "{'limit': 180, 'remaining': 180, 'reset': 1583568690}\n"
     ]
    },
    {
     "name": "stderr",
     "output_type": "stream",
     "text": [
      "\n",
      "\n",
      "\n",
      "\n",
      "\n",
      "\n",
      "\n",
      "\n",
      "\n",
      "Processing 14:  33%|███▎      | 14/43 [4:01:45<7:44:42, 961.48s/it]\n",
      "\n",
      "\n",
      "\n",
      "\n",
      "\n",
      "\n",
      "\n",
      "\n",
      "Processing 14:  35%|███▍      | 15/43 [4:01:45<7:28:30, 961.10s/it]"
     ]
    },
    {
     "name": "stdout",
     "output_type": "stream",
     "text": [
      "Failed to run the command on that user, Skipping...\n",
      "Failed to run the command on that user, Skipping...\n",
      "Failed to run the command on that user, Skipping...\n",
      "The screen_name_index for the current round of collecting tweets is now:  102459\n",
      "The screen_name_index for starting the next round of collecting tweets will be:  102639\n",
      "# tweets collected so far in these series of calls of the 'collect_screen_name_tweets' function:  2879\n",
      "# remaining collection events in these series of calls of the 'collect_screen_name_tweets' function:  27\n",
      "{'limit': 180, 'remaining': 180, 'reset': 1583569645}\n"
     ]
    },
    {
     "name": "stderr",
     "output_type": "stream",
     "text": [
      "\n",
      "\n",
      "\n",
      "\n",
      "\n",
      "\n",
      "\n",
      "\n",
      "\n",
      "Processing 15:  35%|███▍      | 15/43 [4:17:40<7:28:30, 961.10s/it]\n",
      "\n",
      "\n",
      "\n",
      "\n",
      "\n",
      "\n",
      "\n",
      "\n",
      "Processing 15:  37%|███▋      | 16/43 [4:17:40<7:11:45, 959.47s/it]"
     ]
    },
    {
     "name": "stdout",
     "output_type": "stream",
     "text": [
      "Failed to run the command on that user, Skipping...\n",
      "The screen_name_index for the current round of collecting tweets is now:  102639\n",
      "The screen_name_index for starting the next round of collecting tweets will be:  102819\n",
      "# tweets collected so far in these series of calls of the 'collect_screen_name_tweets' function:  3059\n",
      "# remaining collection events in these series of calls of the 'collect_screen_name_tweets' function:  26\n",
      "{'limit': 180, 'remaining': 180, 'reset': 1583570592}\n"
     ]
    },
    {
     "name": "stderr",
     "output_type": "stream",
     "text": [
      "\n",
      "\n",
      "\n",
      "\n",
      "\n",
      "\n",
      "\n",
      "\n",
      "\n",
      "Processing 16:  37%|███▋      | 16/43 [4:33:27<7:11:45, 959.47s/it]\n",
      "\n",
      "\n",
      "\n",
      "\n",
      "\n",
      "\n",
      "\n",
      "\n",
      "Processing 16:  40%|███▉      | 17/43 [4:33:27<6:54:05, 955.58s/it]"
     ]
    },
    {
     "name": "stdout",
     "output_type": "stream",
     "text": [
      "Failed to run the command on that user, Skipping...\n",
      "Failed to run the command on that user, Skipping...\n",
      "Failed to run the command on that user, Skipping...\n",
      "Failed to run the command on that user, Skipping...\n",
      "Failed to run the command on that user, Skipping...\n",
      "Failed to run the command on that user, Skipping...\n",
      "The screen_name_index for the current round of collecting tweets is now:  102819\n",
      "The screen_name_index for starting the next round of collecting tweets will be:  102999\n",
      "# tweets collected so far in these series of calls of the 'collect_screen_name_tweets' function:  3239\n",
      "# remaining collection events in these series of calls of the 'collect_screen_name_tweets' function:  25\n",
      "{'limit': 180, 'remaining': 180, 'reset': 1583571541}\n"
     ]
    },
    {
     "name": "stderr",
     "output_type": "stream",
     "text": [
      "\n",
      "\n",
      "\n",
      "\n",
      "\n",
      "\n",
      "\n",
      "\n",
      "\n",
      "Processing 17:  40%|███▉      | 17/43 [4:49:15<6:54:05, 955.58s/it]\n",
      "\n",
      "\n",
      "\n",
      "\n",
      "\n",
      "\n",
      "\n",
      "\n",
      "Processing 17:  42%|████▏     | 18/43 [4:49:15<6:37:16, 953.46s/it]"
     ]
    },
    {
     "name": "stdout",
     "output_type": "stream",
     "text": [
      "Failed to run the command on that user, Skipping...\n",
      "The screen_name_index for the current round of collecting tweets is now:  102999\n",
      "The screen_name_index for starting the next round of collecting tweets will be:  103179\n",
      "# tweets collected so far in these series of calls of the 'collect_screen_name_tweets' function:  3419\n",
      "# remaining collection events in these series of calls of the 'collect_screen_name_tweets' function:  24\n",
      "{'limit': 180, 'remaining': 180, 'reset': 1583572491}\n"
     ]
    },
    {
     "name": "stderr",
     "output_type": "stream",
     "text": [
      "\n",
      "\n",
      "\n",
      "\n",
      "\n",
      "\n",
      "\n",
      "\n",
      "\n",
      "Processing 18:  42%|████▏     | 18/43 [5:05:06<6:37:16, 953.46s/it]\n",
      "\n",
      "\n",
      "\n",
      "\n",
      "\n",
      "\n",
      "\n",
      "\n",
      "Processing 18:  44%|████▍     | 19/43 [5:05:06<6:21:03, 952.64s/it]"
     ]
    },
    {
     "name": "stdout",
     "output_type": "stream",
     "text": [
      "Failed to run the command on that user, Skipping...\n",
      "Failed to run the command on that user, Skipping...\n",
      "Failed to run the command on that user, Skipping...\n",
      "Failed to run the command on that user, Skipping...\n",
      "The screen_name_index for the current round of collecting tweets is now:  103179\n",
      "The screen_name_index for starting the next round of collecting tweets will be:  103359\n",
      "# tweets collected so far in these series of calls of the 'collect_screen_name_tweets' function:  3599\n",
      "# remaining collection events in these series of calls of the 'collect_screen_name_tweets' function:  23\n",
      "{'limit': 180, 'remaining': 180, 'reset': 1583573440}\n"
     ]
    },
    {
     "name": "stderr",
     "output_type": "stream",
     "text": [
      "\n",
      "\n",
      "\n",
      "\n",
      "\n",
      "\n",
      "\n",
      "\n",
      "\n",
      "Processing 19:  44%|████▍     | 19/43 [5:20:55<6:21:03, 952.64s/it]\n",
      "\n",
      "\n",
      "\n",
      "\n",
      "\n",
      "\n",
      "\n",
      "\n",
      "Processing 19:  47%|████▋     | 20/43 [5:20:55<6:04:45, 951.56s/it]"
     ]
    },
    {
     "name": "stdout",
     "output_type": "stream",
     "text": [
      "Failed to run the command on that user, Skipping...\n",
      "Failed to run the command on that user, Skipping...\n",
      "The screen_name_index for the current round of collecting tweets is now:  103359\n",
      "The screen_name_index for starting the next round of collecting tweets will be:  103539\n",
      "# tweets collected so far in these series of calls of the 'collect_screen_name_tweets' function:  3779\n",
      "# remaining collection events in these series of calls of the 'collect_screen_name_tweets' function:  22\n",
      "{'limit': 180, 'remaining': 180, 'reset': 1583574386}\n"
     ]
    },
    {
     "name": "stderr",
     "output_type": "stream",
     "text": [
      "\n",
      "\n",
      "\n",
      "\n",
      "\n",
      "\n",
      "\n",
      "\n",
      "\n",
      "Processing 20:  47%|████▋     | 20/43 [5:36:41<6:04:45, 951.56s/it]\n",
      "\n",
      "\n",
      "\n",
      "\n",
      "\n",
      "\n",
      "\n",
      "\n",
      "Processing 20:  49%|████▉     | 21/43 [5:36:41<5:48:13, 949.70s/it]"
     ]
    },
    {
     "name": "stdout",
     "output_type": "stream",
     "text": [
      "Failed to run the command on that user, Skipping...\n",
      "Failed to run the command on that user, Skipping...\n",
      "The screen_name_index for the current round of collecting tweets is now:  103539\n",
      "The screen_name_index for starting the next round of collecting tweets will be:  103719\n",
      "# tweets collected so far in these series of calls of the 'collect_screen_name_tweets' function:  3959\n",
      "# remaining collection events in these series of calls of the 'collect_screen_name_tweets' function:  21\n",
      "{'limit': 180, 'remaining': 180, 'reset': 1583575330}\n"
     ]
    },
    {
     "name": "stderr",
     "output_type": "stream",
     "text": [
      "\n",
      "\n",
      "\n",
      "\n",
      "\n",
      "\n",
      "\n",
      "\n",
      "\n",
      "Processing 21:  49%|████▉     | 21/43 [5:52:25<5:48:13, 949.70s/it]\n",
      "\n",
      "\n",
      "\n",
      "\n",
      "\n",
      "\n",
      "\n",
      "\n",
      "Processing 21:  51%|█████     | 22/43 [5:52:25<5:31:48, 948.05s/it]"
     ]
    },
    {
     "name": "stdout",
     "output_type": "stream",
     "text": [
      "Failed to run the command on that user, Skipping...\n",
      "Failed to run the command on that user, Skipping...\n",
      "Failed to run the command on that user, Skipping...\n",
      "Failed to run the command on that user, Skipping...\n",
      "Failed to run the command on that user, Skipping...\n",
      "Failed to run the command on that user, Skipping...\n",
      "Failed to run the command on that user, Skipping...\n",
      "The screen_name_index for the current round of collecting tweets is now:  103719\n",
      "The screen_name_index for starting the next round of collecting tweets will be:  103899\n",
      "# tweets collected so far in these series of calls of the 'collect_screen_name_tweets' function:  4139\n",
      "# remaining collection events in these series of calls of the 'collect_screen_name_tweets' function:  20\n",
      "{'limit': 180, 'remaining': 180, 'reset': 1583576275}\n"
     ]
    },
    {
     "name": "stderr",
     "output_type": "stream",
     "text": [
      "\n",
      "\n",
      "\n",
      "\n",
      "\n",
      "\n",
      "\n",
      "\n",
      "\n",
      "Processing 22:  51%|█████     | 22/43 [6:08:10<5:31:48, 948.05s/it]\n",
      "\n",
      "\n",
      "\n",
      "\n",
      "\n",
      "\n",
      "\n",
      "\n",
      "Processing 22:  53%|█████▎    | 23/43 [6:08:10<5:15:41, 947.09s/it]"
     ]
    },
    {
     "name": "stdout",
     "output_type": "stream",
     "text": [
      "The screen_name_index for the current round of collecting tweets is now:  103899\n",
      "The screen_name_index for starting the next round of collecting tweets will be:  104079\n",
      "# tweets collected so far in these series of calls of the 'collect_screen_name_tweets' function:  4318\n",
      "# remaining collection events in these series of calls of the 'collect_screen_name_tweets' function:  19\n",
      "{'limit': 180, 'remaining': 180, 'reset': 1583577222}\n"
     ]
    },
    {
     "name": "stderr",
     "output_type": "stream",
     "text": [
      "\n",
      "\n",
      "\n",
      "\n",
      "\n",
      "\n",
      "\n",
      "\n",
      "\n",
      "Processing 23:  53%|█████▎    | 23/43 [6:23:57<5:15:41, 947.09s/it]\n",
      "\n",
      "\n",
      "\n",
      "\n",
      "\n",
      "\n",
      "\n",
      "\n",
      "Processing 23:  56%|█████▌    | 24/43 [6:23:57<4:59:54, 947.07s/it]"
     ]
    },
    {
     "name": "stdout",
     "output_type": "stream",
     "text": [
      "Failed to run the command on that user, Skipping...\n",
      "Failed to run the command on that user, Skipping...\n",
      "Failed to run the command on that user, Skipping...\n",
      "The screen_name_index for the current round of collecting tweets is now:  104079\n",
      "The screen_name_index for starting the next round of collecting tweets will be:  104259\n",
      "# tweets collected so far in these series of calls of the 'collect_screen_name_tweets' function:  4498\n",
      "# remaining collection events in these series of calls of the 'collect_screen_name_tweets' function:  18\n",
      "{'limit': 180, 'remaining': 180, 'reset': 1583578168}\n"
     ]
    },
    {
     "name": "stderr",
     "output_type": "stream",
     "text": [
      "\n",
      "\n",
      "\n",
      "\n",
      "\n",
      "\n",
      "\n",
      "\n",
      "\n",
      "Processing 24:  56%|█████▌    | 24/43 [6:39:43<4:59:54, 947.07s/it]\n",
      "\n",
      "\n",
      "\n",
      "\n",
      "\n",
      "\n",
      "\n",
      "\n",
      "Processing 24:  58%|█████▊    | 25/43 [6:39:43<4:44:03, 946.87s/it]"
     ]
    },
    {
     "name": "stdout",
     "output_type": "stream",
     "text": [
      "The screen_name_index for the current round of collecting tweets is now:  104259\n",
      "The screen_name_index for starting the next round of collecting tweets will be:  104439\n",
      "# tweets collected so far in these series of calls of the 'collect_screen_name_tweets' function:  4678\n",
      "# remaining collection events in these series of calls of the 'collect_screen_name_tweets' function:  17\n",
      "{'limit': 180, 'remaining': 180, 'reset': 1583579114}\n"
     ]
    },
    {
     "name": "stderr",
     "output_type": "stream",
     "text": [
      "\n",
      "\n",
      "\n",
      "\n",
      "\n",
      "\n",
      "\n",
      "\n",
      "\n",
      "Processing 25:  58%|█████▊    | 25/43 [6:55:29<4:44:03, 946.87s/it]\n",
      "\n",
      "\n",
      "\n",
      "\n",
      "\n",
      "\n",
      "\n",
      "\n",
      "Processing 25:  60%|██████    | 26/43 [6:55:29<4:28:11, 946.58s/it]"
     ]
    },
    {
     "name": "stdout",
     "output_type": "stream",
     "text": [
      "The screen_name_index for the current round of collecting tweets is now:  104439\n",
      "The screen_name_index for starting the next round of collecting tweets will be:  104619\n",
      "# tweets collected so far in these series of calls of the 'collect_screen_name_tweets' function:  4858\n",
      "# remaining collection events in these series of calls of the 'collect_screen_name_tweets' function:  16\n",
      "{'limit': 180, 'remaining': 180, 'reset': 1583580060}\n"
     ]
    },
    {
     "name": "stderr",
     "output_type": "stream",
     "text": [
      "\n",
      "\n",
      "\n",
      "\n",
      "\n",
      "\n",
      "\n",
      "\n",
      "\n",
      "Processing 26:  60%|██████    | 26/43 [7:11:15<4:28:11, 946.58s/it]\n",
      "\n",
      "\n",
      "\n",
      "\n",
      "\n",
      "\n",
      "\n",
      "\n",
      "Processing 26:  63%|██████▎   | 27/43 [7:11:15<4:12:22, 946.42s/it]"
     ]
    },
    {
     "name": "stdout",
     "output_type": "stream",
     "text": [
      "Failed to run the command on that user, Skipping...\n",
      "Failed to run the command on that user, Skipping...\n",
      "Failed to run the command on that user, Skipping...\n",
      "Failed to run the command on that user, Skipping...\n",
      "Failed to run the command on that user, Skipping...\n",
      "The screen_name_index for the current round of collecting tweets is now:  104619\n",
      "The screen_name_index for starting the next round of collecting tweets will be:  104799\n",
      "# tweets collected so far in these series of calls of the 'collect_screen_name_tweets' function:  5038\n",
      "# remaining collection events in these series of calls of the 'collect_screen_name_tweets' function:  15\n",
      "{'limit': 180, 'remaining': 180, 'reset': 1583581007}\n"
     ]
    },
    {
     "name": "stderr",
     "output_type": "stream",
     "text": [
      "\n",
      "\n",
      "\n",
      "\n",
      "\n",
      "\n",
      "\n",
      "\n",
      "\n",
      "Processing 27:  63%|██████▎   | 27/43 [7:27:02<4:12:22, 946.42s/it]\n",
      "\n",
      "\n",
      "\n",
      "\n",
      "\n",
      "\n",
      "\n",
      "\n",
      "Processing 27:  65%|██████▌   | 28/43 [7:27:02<3:56:38, 946.56s/it]"
     ]
    },
    {
     "name": "stdout",
     "output_type": "stream",
     "text": [
      "Failed to run the command on that user, Skipping...\n",
      "Failed to run the command on that user, Skipping...\n",
      "Failed to run the command on that user, Skipping...\n",
      "Failed to run the command on that user, Skipping...\n",
      "The screen_name_index for the current round of collecting tweets is now:  104799\n",
      "The screen_name_index for starting the next round of collecting tweets will be:  104979\n",
      "# tweets collected so far in these series of calls of the 'collect_screen_name_tweets' function:  5179\n",
      "# remaining collection events in these series of calls of the 'collect_screen_name_tweets' function:  14\n",
      "{'limit': 180, 'remaining': 180, 'reset': 1583581947}\n"
     ]
    },
    {
     "name": "stderr",
     "output_type": "stream",
     "text": [
      "\n",
      "\n",
      "\n",
      "\n",
      "\n",
      "\n",
      "\n",
      "\n",
      "\n",
      "Processing 28:  65%|██████▌   | 28/43 [7:42:42<3:56:38, 946.56s/it]\n",
      "\n",
      "\n",
      "\n",
      "\n",
      "\n",
      "\n",
      "\n",
      "\n",
      "Processing 28:  67%|██████▋   | 29/43 [7:42:42<3:40:23, 944.56s/it]"
     ]
    },
    {
     "name": "stdout",
     "output_type": "stream",
     "text": [
      "The screen_name_index for the current round of collecting tweets is now:  104979\n",
      "The screen_name_index for starting the next round of collecting tweets will be:  105159\n",
      "# tweets collected so far in these series of calls of the 'collect_screen_name_tweets' function:  5179\n",
      "# remaining collection events in these series of calls of the 'collect_screen_name_tweets' function:  13\n",
      "{'limit': 180, 'remaining': 180, 'reset': 1583582862}\n"
     ]
    },
    {
     "name": "stderr",
     "output_type": "stream",
     "text": [
      "\n",
      "\n",
      "\n",
      "\n",
      "\n",
      "\n",
      "\n",
      "\n",
      "\n",
      "Processing 29:  67%|██████▋   | 29/43 [7:57:57<3:40:23, 944.56s/it]\n",
      "\n",
      "\n",
      "\n",
      "\n",
      "\n",
      "\n",
      "\n",
      "\n",
      "Processing 29:  70%|██████▉   | 30/43 [7:57:57<3:22:46, 935.87s/it]"
     ]
    },
    {
     "name": "stdout",
     "output_type": "stream",
     "text": [
      "The screen_name_index for the current round of collecting tweets is now:  105159\n",
      "The screen_name_index for starting the next round of collecting tweets will be:  105339\n",
      "# tweets collected so far in these series of calls of the 'collect_screen_name_tweets' function:  5179\n",
      "# remaining collection events in these series of calls of the 'collect_screen_name_tweets' function:  12\n",
      "{'limit': 180, 'remaining': 180, 'reset': 1583583778}\n"
     ]
    },
    {
     "name": "stderr",
     "output_type": "stream",
     "text": [
      "\n",
      "\n",
      "\n",
      "\n",
      "\n",
      "\n",
      "\n",
      "\n",
      "\n",
      "Processing 30:  70%|██████▉   | 30/43 [8:13:13<3:22:46, 935.87s/it]\n",
      "\n",
      "\n",
      "\n",
      "\n",
      "\n",
      "\n",
      "\n",
      "\n",
      "Processing 30:  72%|███████▏  | 31/43 [8:13:13<3:05:57, 929.81s/it]"
     ]
    },
    {
     "name": "stdout",
     "output_type": "stream",
     "text": [
      "The screen_name_index for the current round of collecting tweets is now:  105339\n",
      "The screen_name_index for starting the next round of collecting tweets will be:  105519\n",
      "# tweets collected so far in these series of calls of the 'collect_screen_name_tweets' function:  5179\n",
      "# remaining collection events in these series of calls of the 'collect_screen_name_tweets' function:  11\n",
      "{'limit': 180, 'remaining': 180, 'reset': 1583584694}\n"
     ]
    },
    {
     "name": "stderr",
     "output_type": "stream",
     "text": [
      "\n",
      "\n",
      "\n",
      "\n",
      "\n",
      "\n",
      "\n",
      "\n",
      "\n",
      "Processing 31:  72%|███████▏  | 31/43 [8:28:29<3:05:57, 929.81s/it]\n",
      "\n",
      "\n",
      "\n",
      "\n",
      "\n",
      "\n",
      "\n",
      "\n",
      "Processing 31:  74%|███████▍  | 32/43 [8:28:29<2:49:41, 925.55s/it]"
     ]
    },
    {
     "name": "stdout",
     "output_type": "stream",
     "text": [
      "The screen_name_index for the current round of collecting tweets is now:  105519\n",
      "The screen_name_index for starting the next round of collecting tweets will be:  105699\n",
      "# tweets collected so far in these series of calls of the 'collect_screen_name_tweets' function:  5179\n",
      "# remaining collection events in these series of calls of the 'collect_screen_name_tweets' function:  10\n",
      "{'limit': 180, 'remaining': 180, 'reset': 1583585609}\n"
     ]
    },
    {
     "name": "stderr",
     "output_type": "stream",
     "text": [
      "\n",
      "\n",
      "\n",
      "\n",
      "\n",
      "\n",
      "\n",
      "\n",
      "\n",
      "Processing 32:  74%|███████▍  | 32/43 [8:43:44<2:49:41, 925.55s/it]\n",
      "\n",
      "\n",
      "\n",
      "\n",
      "\n",
      "\n",
      "\n",
      "\n",
      "Processing 32:  77%|███████▋  | 33/43 [8:43:44<2:33:45, 922.56s/it]"
     ]
    },
    {
     "name": "stdout",
     "output_type": "stream",
     "text": [
      "The screen_name_index for the current round of collecting tweets is now:  105699\n",
      "The screen_name_index for starting the next round of collecting tweets will be:  105879\n",
      "# tweets collected so far in these series of calls of the 'collect_screen_name_tweets' function:  5179\n",
      "# remaining collection events in these series of calls of the 'collect_screen_name_tweets' function:  9\n",
      "{'limit': 180, 'remaining': 180, 'reset': 1583586525}\n"
     ]
    },
    {
     "name": "stderr",
     "output_type": "stream",
     "text": [
      "\n",
      "\n",
      "\n",
      "\n",
      "\n",
      "\n",
      "\n",
      "\n",
      "\n",
      "Processing 33:  77%|███████▋  | 33/43 [8:59:00<2:33:45, 922.56s/it]\n",
      "\n",
      "\n",
      "\n",
      "\n",
      "\n",
      "\n",
      "\n",
      "\n",
      "Processing 33:  79%|███████▉  | 34/43 [8:59:00<2:18:04, 920.49s/it]"
     ]
    },
    {
     "name": "stdout",
     "output_type": "stream",
     "text": [
      "The screen_name_index for the current round of collecting tweets is now:  105879\n",
      "The screen_name_index for starting the next round of collecting tweets will be:  106059\n",
      "# tweets collected so far in these series of calls of the 'collect_screen_name_tweets' function:  5179\n",
      "# remaining collection events in these series of calls of the 'collect_screen_name_tweets' function:  8\n",
      "{'limit': 180, 'remaining': 180, 'reset': 1583587441}\n"
     ]
    },
    {
     "name": "stderr",
     "output_type": "stream",
     "text": [
      "\n",
      "\n",
      "\n",
      "\n",
      "\n",
      "\n",
      "\n",
      "\n",
      "\n",
      "Processing 34:  79%|███████▉  | 34/43 [9:14:16<2:18:04, 920.49s/it]\n",
      "\n",
      "\n",
      "\n",
      "\n",
      "\n",
      "\n",
      "\n",
      "\n",
      "Processing 34:  81%|████████▏ | 35/43 [9:14:16<2:02:32, 919.03s/it]"
     ]
    },
    {
     "name": "stdout",
     "output_type": "stream",
     "text": [
      "The screen_name_index for the current round of collecting tweets is now:  106059\n",
      "The screen_name_index for starting the next round of collecting tweets will be:  106239\n",
      "# tweets collected so far in these series of calls of the 'collect_screen_name_tweets' function:  5179\n",
      "# remaining collection events in these series of calls of the 'collect_screen_name_tweets' function:  7\n",
      "{'limit': 180, 'remaining': 180, 'reset': 1583588356}\n"
     ]
    },
    {
     "name": "stderr",
     "output_type": "stream",
     "text": [
      "\n",
      "\n",
      "\n",
      "\n",
      "\n",
      "\n",
      "\n",
      "\n",
      "\n",
      "Processing 35:  81%|████████▏ | 35/43 [9:29:31<2:02:32, 919.03s/it]\n",
      "\n",
      "\n",
      "\n",
      "\n",
      "\n",
      "\n",
      "\n",
      "\n",
      "Processing 35:  84%|████████▎ | 36/43 [9:29:31<1:47:05, 917.99s/it]"
     ]
    },
    {
     "name": "stdout",
     "output_type": "stream",
     "text": [
      "The screen_name_index for the current round of collecting tweets is now:  106239\n",
      "The screen_name_index for starting the next round of collecting tweets will be:  106419\n",
      "# tweets collected so far in these series of calls of the 'collect_screen_name_tweets' function:  5179\n",
      "# remaining collection events in these series of calls of the 'collect_screen_name_tweets' function:  6\n",
      "{'limit': 180, 'remaining': 180, 'reset': 1583589272}\n"
     ]
    },
    {
     "name": "stderr",
     "output_type": "stream",
     "text": [
      "\n",
      "\n",
      "\n",
      "\n",
      "\n",
      "\n",
      "\n",
      "\n",
      "\n",
      "Processing 36:  84%|████████▎ | 36/43 [9:44:47<1:47:05, 917.99s/it]\n",
      "\n",
      "\n",
      "\n",
      "\n",
      "\n",
      "\n",
      "\n",
      "\n",
      "Processing 36:  86%|████████▌ | 37/43 [9:44:47<1:31:43, 917.29s/it]"
     ]
    },
    {
     "name": "stdout",
     "output_type": "stream",
     "text": [
      "The screen_name_index for the current round of collecting tweets is now:  106419\n",
      "The screen_name_index for starting the next round of collecting tweets will be:  106599\n",
      "# tweets collected so far in these series of calls of the 'collect_screen_name_tweets' function:  5179\n",
      "# remaining collection events in these series of calls of the 'collect_screen_name_tweets' function:  5\n",
      "{'limit': 180, 'remaining': 180, 'reset': 1583590187}\n"
     ]
    },
    {
     "name": "stderr",
     "output_type": "stream",
     "text": [
      "\n",
      "\n",
      "\n",
      "\n",
      "\n",
      "\n",
      "\n",
      "\n",
      "\n",
      "Processing 37:  86%|████████▌ | 37/43 [10:00:02<1:31:43, 917.29s/it]\n",
      "\n",
      "\n",
      "\n",
      "\n",
      "\n",
      "\n",
      "\n",
      "\n",
      "Processing 37:  88%|████████▊ | 38/43 [10:00:02<1:16:23, 916.78s/it]"
     ]
    },
    {
     "name": "stdout",
     "output_type": "stream",
     "text": [
      "The screen_name_index for the current round of collecting tweets is now:  106599\n",
      "The screen_name_index for starting the next round of collecting tweets will be:  106779\n",
      "# tweets collected so far in these series of calls of the 'collect_screen_name_tweets' function:  5179\n",
      "# remaining collection events in these series of calls of the 'collect_screen_name_tweets' function:  4\n",
      "{'limit': 180, 'remaining': 180, 'reset': 1583591103}\n"
     ]
    },
    {
     "name": "stderr",
     "output_type": "stream",
     "text": [
      "\n",
      "\n",
      "\n",
      "\n",
      "\n",
      "\n",
      "\n",
      "\n",
      "\n",
      "Processing 38:  88%|████████▊ | 38/43 [10:15:18<1:16:23, 916.78s/it]\n",
      "\n",
      "\n",
      "\n",
      "\n",
      "\n",
      "\n",
      "\n",
      "\n",
      "Processing 38:  91%|█████████ | 39/43 [10:15:18<1:01:05, 916.43s/it]"
     ]
    },
    {
     "name": "stdout",
     "output_type": "stream",
     "text": [
      "The screen_name_index for the current round of collecting tweets is now:  106779\n",
      "The screen_name_index for starting the next round of collecting tweets will be:  106959\n",
      "# tweets collected so far in these series of calls of the 'collect_screen_name_tweets' function:  5179\n",
      "# remaining collection events in these series of calls of the 'collect_screen_name_tweets' function:  3\n",
      "{'limit': 180, 'remaining': 180, 'reset': 1583592019}\n"
     ]
    },
    {
     "name": "stderr",
     "output_type": "stream",
     "text": [
      "\n",
      "\n",
      "\n",
      "\n",
      "\n",
      "\n",
      "\n",
      "\n",
      "\n",
      "Processing 39:  91%|█████████ | 39/43 [10:30:34<1:01:05, 916.43s/it]\n",
      "\n",
      "\n",
      "\n",
      "\n",
      "\n",
      "\n",
      "\n",
      "\n",
      "Processing 39:  93%|█████████▎| 40/43 [10:30:34<45:48, 916.17s/it]  "
     ]
    },
    {
     "name": "stdout",
     "output_type": "stream",
     "text": [
      "The screen_name_index for the current round of collecting tweets is now:  106959\n",
      "The screen_name_index for starting the next round of collecting tweets will be:  107139\n",
      "# tweets collected so far in these series of calls of the 'collect_screen_name_tweets' function:  5179\n",
      "# remaining collection events in these series of calls of the 'collect_screen_name_tweets' function:  2\n",
      "{'limit': 180, 'remaining': 180, 'reset': 1583592934}\n"
     ]
    },
    {
     "name": "stderr",
     "output_type": "stream",
     "text": [
      "\n",
      "\n",
      "\n",
      "\n",
      "\n",
      "\n",
      "\n",
      "\n",
      "\n",
      "Processing 40:  93%|█████████▎| 40/43 [10:45:49<45:48, 916.17s/it]\n",
      "\n",
      "\n",
      "\n",
      "\n",
      "\n",
      "\n",
      "\n",
      "\n",
      "Processing 40:  95%|█████████▌| 41/43 [10:45:49<30:31, 915.99s/it]"
     ]
    },
    {
     "name": "stdout",
     "output_type": "stream",
     "text": [
      "The screen_name_index for the current round of collecting tweets is now:  107139\n",
      "The screen_name_index for starting the next round of collecting tweets will be:  107319\n",
      "# tweets collected so far in these series of calls of the 'collect_screen_name_tweets' function:  5179\n",
      "# remaining collection events in these series of calls of the 'collect_screen_name_tweets' function:  1\n",
      "{'limit': 180, 'remaining': 180, 'reset': 1583593850}\n"
     ]
    },
    {
     "name": "stderr",
     "output_type": "stream",
     "text": [
      "\n",
      "\n",
      "\n",
      "\n",
      "\n",
      "\n",
      "\n",
      "\n",
      "\n",
      "Processing 41:  95%|█████████▌| 41/43 [11:01:05<30:31, 915.99s/it]\n",
      "\n",
      "\n",
      "\n",
      "\n",
      "\n",
      "\n",
      "\n",
      "\n",
      "Processing 41:  98%|█████████▊| 42/43 [11:01:05<15:15, 915.89s/it]"
     ]
    },
    {
     "name": "stdout",
     "output_type": "stream",
     "text": [
      "The screen_name_index for the current round of collecting tweets is now:  107319\n",
      "The screen_name_index for starting the next round of collecting tweets will be:  107499\n",
      "# tweets collected so far in these series of calls of the 'collect_screen_name_tweets' function:  5179\n",
      "# remaining collection events in these series of calls of the 'collect_screen_name_tweets' function:  0\n",
      "{'limit': 180, 'remaining': 180, 'reset': 1583594766}\n"
     ]
    },
    {
     "name": "stderr",
     "output_type": "stream",
     "text": [
      "\n",
      "\n",
      "\n",
      "\n",
      "\n",
      "\n",
      "\n",
      "\n",
      "\n",
      "Processing 42:  98%|█████████▊| 42/43 [11:16:21<15:15, 915.89s/it]\n",
      "\n",
      "\n",
      "\n",
      "\n",
      "\n",
      "\n",
      "\n",
      "\n",
      "Processing 42: 100%|██████████| 43/43 [11:16:21<00:00, 915.93s/it]"
     ]
    },
    {
     "name": "stdout",
     "output_type": "stream",
     "text": [
      "Total # of new tweets collected in these calls of the 'collect_screen_name_tweets' function that are now completed: 5179\n",
      "Total # of new tweets collected so far:  104937\n"
     ]
    }
   ],
   "source": [
    "# Working version  \n",
    "# Collect new tweets from the same screen names producing sarcastic tweets\n",
    "# Executes the 'collect_screen_name_tweets' function iteratively to collect tweets from the same usernames that posted sarcastic tweets\n",
    "# The code block periodically calls the 'collect_screen_name_tweets' function to accomodate Twitter API rate limits\n",
    " \n",
    "collection_events = 43  # determines the number of times the 'collect_screen_name_tweets' function is called ; also used for decrementing the number of ...\n",
    "# ...remaining collection events for reporting purposes\n",
    "interval =  15.5  # wait period between successive calls of the 'collect_screen_name_tweets' function. Limit is 180 tweets/15 minutes. My goal is collecting\n",
    "minutes = collection_events * interval\n",
    "hours = minutes/60\n",
    "print(\"This script will run for \", minutes, \" minutes or \", hours, \" hours\")\n",
    "starttime = datetime.now()\n",
    "print(\"This script started at\", starttime)\n",
    "end_time = datetime.now() + timedelta(hours=hours)\n",
    "print(\"This script will end at\", end_time)\n",
    "\n",
    "screen_name_count = 180 # indicates the number of tweets collected per 'collection_event' (minus one because it functions to slice the screen names)\n",
    "# use for incrementing the index for the screen names to avoid collecting tweets from the same screen names, where the maximum rate limit ....\n",
    "# ... is 180 tweets / 15 minutes and I think I saw somewhere that the maximum number of tweers for the user_timeline method is 100 tweets\n",
    "print(\"When this script is done there should be \", ((screen_name_count*collection_events) + (len(all_new_tweets_master))), \"total tweets collected so far\")\n",
    "print(\"This script should collect \", screen_name_count*collection_events, \" new tweets\")\n",
    "\n",
    "pbar = tqdm(range(collection_events)) # set the number of collection events. Each event is spaced in time due to the 15 minute ...\n",
    "# ...Twitter rate limit\n",
    "\n",
    "if len(all_new_tweets_master) == 0:\n",
    "    screen_name_index = 0 # establish the counter at index zero for iterating through the usernames series; applies only for the first call of this function...\n",
    "    #... then afterwards let the counter increment until tweets grabbed for all screen names\n",
    "else:\n",
    "    screen_name_index = (len(all_new_tweets_master)+1) # This ensures that future tweets collected will start at the index right after where the previous ...\n",
    "    # .. index left off\n",
    "print('Number of new tweets collected so far: ', len(all_new_tweets_master))\n",
    "print('Beginning screen_name_index:', screen_name_index)\n",
    "\n",
    "\n",
    "for num in pbar:        \n",
    "    # This code block limits the number of times the 'collect_screen_name_tweets' function is called to accommodate Twitter rate limits\n",
    "    # This code block calls the 'collect_screen_name_tweets' function on a range of screen names as defined below and increments the counter ...\n",
    "    # ...defining the range to accomodate Twitter API rate limits\n",
    "    collect_screen_name_tweets(sarc_screen_names[screen_name_index:(screen_name_index+screen_name_count)]) # new function that collects tweets from the same screen names in the sarcastic tweets\n",
    "    print('The screen_name_index for the current round of collecting tweets is now: ', screen_name_index) \n",
    " \n",
    "    screen_name_index += screen_name_count # increment the counter for the indices of the screen names to avoid collecting tweets from the same \n",
    "    # screen names. This should increment by the number of tweets collected in each call to the 'collect_screen_name_tweets' function = screen_name_count...\n",
    "    #... which is usually 180\n",
    "    print('The screen_name_index for starting the next round of collecting tweets will be: ', screen_name_index) \n",
    "    \n",
    "    starttime = datetime.now()\n",
    "    #time.sleep(930.0 - ((time.time() - starttime) % 930.0)) # throws an error (although it worked originally)\n",
    "    time.sleep(915 - (datetime.now() - starttime).total_seconds() % 5) # execute the function every specified number of seconds. 180 tweets/ 15 minutes = 12 tweets / \n",
    "    #... 60 seconds maximum;  (906 seconds = 15.1 minutes)\n",
    "    # Reference (total_seconds): https://stackoverflow.com/questions/7852855/in-python-how-do-you-convert-a-datetime-object-to-seconds\n",
    "    print(\"# tweets collected so far in these series of calls of the 'collect_screen_name_tweets' function: \", len(all_new_tweets))\n",
    "    collection_events = collection_events -1\n",
    "    print(\"# remaining collection events in these series of calls of the 'collect_screen_name_tweets' function: \", collection_events)\n",
    "    rate = api.rate_limit_status()\n",
    "    print(rate['resources']['search']['/search/tweets'])\n",
    "    time.sleep(0.25)\n",
    "    pbar.set_description(\"Processing %s\" % num)\n",
    "\n",
    "# Add the tweets collected in the current series of calls of the collect_non_sarcastic function to the master list of all non_sarcastic tweets...\n",
    "# ...collected so far\n",
    "all_new_tweets_master.extend(all_new_tweets)\n",
    "#print('Here is the new version of all_new_tweets_master:',all_new_tweets_master) #debugging print statement\n",
    "#non_sarc_tweets_master.extend(all_non_sarc_tweets) # extend the master list of tweets by the new tweets accumulated in 'all_sarc_tweets' for each ...\n",
    "# ...call to 'non_sarcastic' function\n",
    "\n",
    "# Pickle all of the sarcastic tweets collected so far to protect against accidental loss\n",
    "filename = 'all_new_tweets_master_pickle' # Pickle all the collected tweets to save a copy to disk\n",
    "outfile = open(filename, 'wb')\n",
    "pickle.dump(all_new_tweets_master, outfile)\n",
    "outfile.close()\n",
    "# Reference (pickling): https://www.datacamp.com/community/tutorials/pickle-python-tutorial\n",
    "\n",
    "# Print some progress information and clear the 'all_sarc_tweets' list so it can be re-used\n",
    "print(\"Total # of new tweets collected in these calls of the 'collect_screen_name_tweets' function that are now completed:\",len(all_new_tweets))\n",
    "print(\"Total # of new tweets collected so far: \", len(all_new_tweets_master))\n",
    "\n",
    "# clear the 'all_new_tweets' list so 'all_new_tweets_master' doesn't accumulate duplicate tweets\n",
    "all_new_tweets = []\n",
    "assert len(all_new_tweets) == 0\n",
    "    \n",
    "# Reference: https://stackoverflow.com/questions/474528/what-is-the-best-way-to-repeatedly-execute-a-function-every-x-seconds-in-python "
   ]
  },
  {
   "cell_type": "code",
   "execution_count": 63,
   "metadata": {},
   "outputs": [
    {
     "data": {
      "text/plain": [
       "104937"
      ]
     },
     "execution_count": 63,
     "metadata": {},
     "output_type": "execute_result"
    }
   ],
   "source": [
    "len(all_new_tweets_master)"
   ]
  },
  {
   "cell_type": "code",
   "execution_count": 58,
   "metadata": {},
   "outputs": [
    {
     "data": {
      "text/plain": [
       "104940"
      ]
     },
     "execution_count": 58,
     "metadata": {},
     "output_type": "execute_result"
    }
   ],
   "source": [
    "len(sarc_tweets_master)"
   ]
  },
  {
   "cell_type": "code",
   "execution_count": 663,
   "metadata": {},
   "outputs": [
    {
     "name": "stdout",
     "output_type": "stream",
     "text": [
      "0\n",
      "LochnerWalter\n",
      "[['LochnerWalter', '', datetime.datetime(2020, 2, 26, 18, 33, 38), \"RT @ThatsSoJocelyne: Even though @TomSteyer lied about spearheading a super fund cleanup site in #Oxnard, he's still in the race?\\n\\nBTW, he…\"]]\n",
      "[[['LochnerWalter', '', datetime.datetime(2020, 2, 26, 18, 33, 38), \"RT @ThatsSoJocelyne: Even though @TomSteyer lied about spearheading a super fund cleanup site in #Oxnard, he's still in the race?\\n\\nBTW, he…\"]]]\n",
      "[]\n",
      "1\n",
      "DavidJNiedzwie1\n",
      "[['DavidJNiedzwie1', '', datetime.datetime(2020, 2, 26, 17, 40, 59), 'RT @Amy_Siskind: Kind of like when you lied to us about the Iran missile strike not injuring any troops?']]\n",
      "[[['DavidJNiedzwie1', '', datetime.datetime(2020, 2, 26, 17, 40, 59), 'RT @Amy_Siskind: Kind of like when you lied to us about the Iran missile strike not injuring any troops?']]]\n",
      "[]\n"
     ]
    }
   ],
   "source": [
    "collection_events = 2\n",
    "for num in range(collection_events): \n",
    "    print(num)\n",
    "    # This code block limits the number of times the 'collect_screen_name_tweets' function is called to accommodate Twitter rate limits\n",
    "    # This code block calls the 'collect_screen_name_tweets' function on a range of screen names as defined below and increments the counter ...\n",
    "    # ...defining the range to accomodate Twitter API rate limits\n",
    "    collect_screen_name_tweets(sarc_screen_names[screen_name_index:(screen_name_index+1)]) # new function that collects tweets from the same screen names in the sarcastic tweets\n",
    "    screen_name_index += 1 \n",
    "    print(all_new_tweets)"
   ]
  },
  {
   "cell_type": "code",
   "execution_count": 656,
   "metadata": {},
   "outputs": [
    {
     "data": {
      "text/plain": [
       "2    RayeannJ\n",
       "Name: user, dtype: object"
      ]
     },
     "execution_count": 656,
     "metadata": {},
     "output_type": "execute_result"
    }
   ],
   "source": [
    "sarc_screen_names[screen_name_index:(screen_name_index+1)]"
   ]
  },
  {
   "cell_type": "code",
   "execution_count": 614,
   "metadata": {},
   "outputs": [
    {
     "data": {
      "text/plain": [
       "[['RayeannJ',\n",
       "  'California, USA',\n",
       "  datetime.datetime(2020, 2, 26, 16, 43, 29),\n",
       "  '@DonaldJTrumpJr https://t.co/g4WxjGwDPF']]"
      ]
     },
     "execution_count": 614,
     "metadata": {},
     "output_type": "execute_result"
    }
   ],
   "source": [
    "collect_screen_name_tweets(sarc_screen_names[screen_name_index:(screen_name_index+1)])"
   ]
  },
  {
   "cell_type": "code",
   "execution_count": 657,
   "metadata": {},
   "outputs": [
    {
     "data": {
      "text/plain": [
       "[['RayeannJ',\n",
       "  'California, USA',\n",
       "  datetime.datetime(2020, 2, 26, 16, 43, 29),\n",
       "  '@DonaldJTrumpJr https://t.co/g4WxjGwDPF']]"
      ]
     },
     "execution_count": 657,
     "metadata": {},
     "output_type": "execute_result"
    }
   ],
   "source": [
    "collect_screen_name_tweets(sarc_screen_names[screen_name_index:(screen_name_index+1)])"
   ]
  },
  {
   "cell_type": "code",
   "execution_count": 691,
   "metadata": {},
   "outputs": [
    {
     "data": {
      "text/plain": [
       "[]"
      ]
     },
     "execution_count": 691,
     "metadata": {},
     "output_type": "execute_result"
    }
   ],
   "source": [
    "all_new_tweets"
   ]
  },
  {
   "cell_type": "code",
   "execution_count": 692,
   "metadata": {},
   "outputs": [
    {
     "data": {
      "text/plain": [
       "[[['dflenick',\n",
       "   'Davie, FL',\n",
       "   datetime.datetime(2020, 2, 26, 19, 51),\n",
       "   'RT @Ravagiing: MBHD CAIR pulling down statues all over the place in the name of \"racism\" is total BS. \\n\\nIt\\'s because radical jihadis take t…']],\n",
       " [['RestartMIGA6',\n",
       "   '',\n",
       "   datetime.datetime(2020, 2, 26, 19, 50, 46),\n",
       "   'و مدارس و دانشگاه\\u200cها و تجمعات تا ۱۵ فروردین ماه تعطیل نشود  ..\\nو جان هموطنانمان به خطر بیوفتد ...\\nدستور چالش آتش را… https://t.co/xnmFi9pavu']],\n",
       " [['RayeannJ',\n",
       "   'California, USA',\n",
       "   datetime.datetime(2020, 2, 26, 16, 43, 29),\n",
       "   '@DonaldJTrumpJr https://t.co/g4WxjGwDPF']]]"
      ]
     },
     "execution_count": 692,
     "metadata": {},
     "output_type": "execute_result"
    }
   ],
   "source": [
    "all_new_tweets_master"
   ]
  },
  {
   "cell_type": "code",
   "execution_count": 612,
   "metadata": {},
   "outputs": [
    {
     "data": {
      "text/plain": [
       "2"
      ]
     },
     "execution_count": 612,
     "metadata": {},
     "output_type": "execute_result"
    }
   ],
   "source": [
    "screen_name_index"
   ]
  },
  {
   "cell_type": "code",
   "execution_count": 250,
   "metadata": {},
   "outputs": [
    {
     "data": {
      "text/plain": [
       "[[['Braves_Emily',\n",
       "   'ENC',\n",
       "   datetime.datetime(2020, 2, 24, 19, 2, 25),\n",
       "   'Max already washed up 🤦\\u200d♀️\\n\\n#ChopOn #ForTheA #Braves\\n\\n#sarcasm']],\n",
       " [['Braves_Emily',\n",
       "   'ENC',\n",
       "   datetime.datetime(2020, 2, 24, 19, 2, 25),\n",
       "   'Max already washed up 🤦\\u200d♀️\\n\\n#ChopOn #ForTheA #Braves\\n\\n#sarcasm']]]"
      ]
     },
     "execution_count": 250,
     "metadata": {},
     "output_type": "execute_result"
    }
   ],
   "source": [
    "non_sarc_tweets_master"
   ]
  },
  {
   "cell_type": "code",
   "execution_count": 244,
   "metadata": {},
   "outputs": [],
   "source": [
    "collection_events = 3"
   ]
  },
  {
   "cell_type": "code",
   "execution_count": 245,
   "metadata": {},
   "outputs": [
    {
     "name": "stdout",
     "output_type": "stream",
     "text": [
      "range(0, 3)\n"
     ]
    }
   ],
   "source": [
    "print(range(collection_events))"
   ]
  },
  {
   "cell_type": "code",
   "execution_count": 246,
   "metadata": {},
   "outputs": [
    {
     "name": "stdout",
     "output_type": "stream",
     "text": [
      "0\n",
      "1\n",
      "2\n"
     ]
    }
   ],
   "source": [
    "for num in range(collection_events):\n",
    "    print(num)"
   ]
  },
  {
   "cell_type": "code",
   "execution_count": 239,
   "metadata": {},
   "outputs": [
    {
     "data": {
      "text/plain": [
       "2    RayeannJ\n",
       "Name: user, dtype: object"
      ]
     },
     "execution_count": 239,
     "metadata": {},
     "output_type": "execute_result"
    }
   ],
   "source": [
    "sarc_usernames[username_index:(username_index+1)]"
   ]
  },
  {
   "cell_type": "code",
   "execution_count": 243,
   "metadata": {},
   "outputs": [
    {
     "data": {
      "text/plain": [
       "2           RayeannJ\n",
       "3     peggydumptrump\n",
       "4      LochnerWalter\n",
       "5    DavidJNiedzwie1\n",
       "Name: user, dtype: object"
      ]
     },
     "execution_count": 243,
     "metadata": {},
     "output_type": "execute_result"
    }
   ],
   "source": [
    "sarc_usernames[username_index:(username_index+4)]"
   ]
  },
  {
   "cell_type": "code",
   "execution_count": 232,
   "metadata": {},
   "outputs": [
    {
     "data": {
      "text/plain": [
       "[]"
      ]
     },
     "execution_count": 232,
     "metadata": {},
     "output_type": "execute_result"
    }
   ],
   "source": [
    "new_list"
   ]
  },
  {
   "cell_type": "code",
   "execution_count": 248,
   "metadata": {},
   "outputs": [],
   "source": [
    "non_sarc_tweets_master"
   ]
  },
  {
   "cell_type": "code",
   "execution_count": 226,
   "metadata": {},
   "outputs": [],
   "source": [
    "new_list=[]\n",
    "all_non_sarc_tweets = []"
   ]
  },
  {
   "cell_type": "code",
   "execution_count": 77,
   "metadata": {},
   "outputs": [
    {
     "data": {
      "text/plain": [
       "368"
      ]
     },
     "execution_count": 77,
     "metadata": {},
     "output_type": "execute_result"
    }
   ],
   "source": [
    "len(non_sarc_tweets_master)"
   ]
  },
  {
   "cell_type": "code",
   "execution_count": 74,
   "metadata": {},
   "outputs": [],
   "source": [
    "# TOY version - \n",
    "# CAUTION: DO NOT EXECUTE OUTSIDE THE CELLS BELOW\n",
    "# This function loops through the 'usernames' parameter (a list or series of usernames) and collects one non-sarcastic tweet from each username\n",
    "# Captures non-sarcastic tweets from the same users collected in sarcastic tweets\n",
    "\n",
    "def non_sarcastic(usernames):\n",
    "    for user in usernames:\n",
    "        # Defines search terms for collecting non-sarcastic tweets from same users in the most-recent sarcastic tweets DF\n",
    "        non_sarc_filter = \"from:%s -sarcasm -Sarcasm -sarcastic -Sarcastic -filter:retweets filter:has:geo\" %user #added #sarcastic and #Sarcastic 2/22/20\n",
    "        # Collect the maximum number (180) of rate-limited texts under the standard developer agreement\n",
    "        tweets = tw.Cursor(api.search,q=search_words_filter_geo,lang=\"en\",tweet_mode='extended').items(2) # items determines the number of tweets collected. The maximum number determined ...\n",
    "        # ... by rate limits is 180 tweets/15 minutes\n",
    "        # Specify the fields to collect in the tweet\n",
    "        new_non_sarc_tweets = [[tweet.user.screen_name, tweet.user.location, tweet.created_at, tweet.full_text.encode('utf-8')] for tweet in tweets] # added .encode('utf-8')\n",
    "        all_non_sarc_tweets.extend(new_non_sarc_tweets) # extends the 'all_non_sarc_tweets' list with the new tweet contained in 'new_non_sarc_tweet'\n",
    "    return(all_non_sarc_tweets)"
   ]
  },
  {
   "cell_type": "code",
   "execution_count": 75,
   "metadata": {},
   "outputs": [
    {
     "data": {
      "text/plain": [
       "[['kolsjanjan',\n",
       "  'Davao City, Philippines',\n",
       "  datetime.datetime(2020, 2, 24, 3, 1, 43),\n",
       "  b'Because the continued operation of ABS-CBN is in the service of the Filipino people, Sen. Poe convene a senate hearing in aid of legislation. #sarcasm'],\n",
       " ['BAPU_jii',\n",
       "  'Malibu, CA',\n",
       "  datetime.datetime(2020, 2, 24, 2, 57, 47),\n",
       "  b'@Kiirti2 @nabidhansi @MaleehaHashmey OMG i know how peace loving hindus are\\xf0\\x9f\\x98\\x81\\xf0\\x9f\\x98\\x81\\xf0\\x9f\\x98\\x81 #sarcasm\\nakhlaq killing and mob lynching has become favorite extra curriculum activity of hindus and hindutwa \\xf0\\x9f\\x98\\x86'],\n",
       " ['kolsjanjan',\n",
       "  'Davao City, Philippines',\n",
       "  datetime.datetime(2020, 2, 24, 3, 1, 43),\n",
       "  b'Because the continued operation of ABS-CBN is in the service of the Filipino people, Sen. Poe convene a senate hearing in aid of legislation. #sarcasm'],\n",
       " ['BAPU_jii',\n",
       "  'Malibu, CA',\n",
       "  datetime.datetime(2020, 2, 24, 2, 57, 47),\n",
       "  b'@Kiirti2 @nabidhansi @MaleehaHashmey OMG i know how peace loving hindus are\\xf0\\x9f\\x98\\x81\\xf0\\x9f\\x98\\x81\\xf0\\x9f\\x98\\x81 #sarcasm\\nakhlaq killing and mob lynching has become favorite extra curriculum activity of hindus and hindutwa \\xf0\\x9f\\x98\\x86']]"
      ]
     },
     "execution_count": 75,
     "metadata": {},
     "output_type": "execute_result"
    }
   ],
   "source": [
    "non_sarcastic(sarc_usernames[username_index:(username_index+2)])"
   ]
  },
  {
   "cell_type": "code",
   "execution_count": 64,
   "metadata": {},
   "outputs": [
    {
     "name": "stdout",
     "output_type": "stream",
     "text": [
      "[['dflenick', 'Davie, FL', datetime.datetime(2020, 2, 28, 3, 33, 20), 'RT @phillyeaglesfa1: Patricia Arquette is urging people to participate in a 1 day economic shutdown that is designed to inflict damage on t…'], ['RestartMIGA6', '', datetime.datetime(2020, 2, 27, 19, 56, 49), 'RT @Afshar06777909: @Ehsan11147283 @sara001398 بنظرم باید اون تیکه از ویدئو رو کات کرد و زیرنویس کرد \\nبریم تو مجازی \\nپخشش کنیم .'], ['RayeannJ', 'California, USA', datetime.datetime(2020, 2, 28, 4, 1, 17), '@ProudResister @BernieSanders Well I sure hope so. That’s what he is supposed to be doing.'], ['peggydumptrump', 'United States', datetime.datetime(2020, 2, 28, 4, 14, 26), 'RT @PhilipRucker: On a day the Dow plunged nearly 1,200 points and his government raced to contain coronavirus'], ['LochnerWalter', '', datetime.datetime(2020, 2, 28, 2, 57, 57), 'OR KIDS ON THE BORDER! https://t.co/uWPH9CSuSy'], ['DavidJNiedzwie1', '', datetime.datetime(2020, 2, 28, 2, 23, 30), 'RT @JoyceWhiteVance: @CapehartJ @russelltim151 He was everyone’s president, not just the president for those who voted for him.'], ['Casinogrammie', '89121', datetime.datetime(2020, 2, 19, 19, 0, 19), 'RT @AuschwitzMuseum: Executed on 19/2/43 | Poles: Józef Gaweł, Józef Królikowski, Józef Merga, Władysław Szczerba, Franciszek Nowacki, Hier…'], ['Can2geterdone', 'Colorado', datetime.datetime(2020, 2, 28, 3, 48, 14), 'RT @EagleThrust007: @Can2geterdone @CCM1956 @Heywood98 @realDonaldTrump @SidneyPowell1 https://t.co/iJAl7HTqLc'], ['MareeKedzlie', '', datetime.datetime(2020, 2, 28, 3, 59, 15), \"RT @psychdr100: Trump's CDC is telling California labs they will not be allowed to test for Coronavirus (except 2 labs in the state).\\nIs th…\"], ['GrantSwanson88', 'Chicago, IL', datetime.datetime(2020, 2, 28, 3, 43, 27), 'RT @GrantSwanson88: If nothing changes significantly on Saturday, who would you MOST like to drop out of the #DemocraticPrimary ?\\n\\nCurrent…']]\n"
     ]
    }
   ],
   "source": [
    "# unpickle 'all_new_tweets_master_pickle' which contains all the tweets collected from the same screen names that produced sarcastic tweets\n",
    "\n",
    "filename = 'all_new_tweets_master_pickle'\n",
    "infile = open(filename,'rb')\n",
    "new_list = pickle.load(infile)\n",
    "infile.close()\n",
    "print(new_list[0:10])"
   ]
  },
  {
   "cell_type": "code",
   "execution_count": 65,
   "metadata": {},
   "outputs": [],
   "source": [
    "# Make a copy of the pickled file and rename the file\n",
    "all_new_tweets_master_list = new_list.copy()"
   ]
  },
  {
   "cell_type": "code",
   "execution_count": 66,
   "metadata": {},
   "outputs": [
    {
     "data": {
      "text/plain": [
       "104937"
      ]
     },
     "execution_count": 66,
     "metadata": {},
     "output_type": "execute_result"
    }
   ],
   "source": [
    "# Verify the length of the list of new tweets collected from the sarcastic screen names\n",
    "len(all_new_tweets_master_list)"
   ]
  },
  {
   "cell_type": "code",
   "execution_count": 68,
   "metadata": {},
   "outputs": [
    {
     "data": {
      "text/html": [
       "<div>\n",
       "<style scoped>\n",
       "    .dataframe tbody tr th:only-of-type {\n",
       "        vertical-align: middle;\n",
       "    }\n",
       "\n",
       "    .dataframe tbody tr th {\n",
       "        vertical-align: top;\n",
       "    }\n",
       "\n",
       "    .dataframe thead th {\n",
       "        text-align: right;\n",
       "    }\n",
       "</style>\n",
       "<table border=\"1\" class=\"dataframe\">\n",
       "  <thead>\n",
       "    <tr style=\"text-align: right;\">\n",
       "      <th></th>\n",
       "      <th>user</th>\n",
       "      <th>location</th>\n",
       "      <th>date</th>\n",
       "      <th>text</th>\n",
       "    </tr>\n",
       "  </thead>\n",
       "  <tbody>\n",
       "    <tr>\n",
       "      <th>0</th>\n",
       "      <td>dflenick</td>\n",
       "      <td>Davie, FL</td>\n",
       "      <td>2020-02-28 03:33:20</td>\n",
       "      <td>RT @phillyeaglesfa1: Patricia Arquette is urging people to participate in a 1 day economic shutdown that is designed to inflict damage on t…</td>\n",
       "    </tr>\n",
       "    <tr>\n",
       "      <th>1</th>\n",
       "      <td>RestartMIGA6</td>\n",
       "      <td></td>\n",
       "      <td>2020-02-27 19:56:49</td>\n",
       "      <td>RT @Afshar06777909: @Ehsan11147283 @sara001398 بنظرم باید اون تیکه از ویدئو رو کات کرد و زیرنویس کرد \\nبریم تو مجازی \\nپخشش کنیم .</td>\n",
       "    </tr>\n",
       "  </tbody>\n",
       "</table>\n",
       "</div>"
      ],
      "text/plain": [
       "           user   location                date  \\\n",
       "0      dflenick  Davie, FL 2020-02-28 03:33:20   \n",
       "1  RestartMIGA6            2020-02-27 19:56:49   \n",
       "\n",
       "                                                                                                                                           text  \n",
       "0  RT @phillyeaglesfa1: Patricia Arquette is urging people to participate in a 1 day economic shutdown that is designed to inflict damage on t…  \n",
       "1            RT @Afshar06777909: @Ehsan11147283 @sara001398 بنظرم باید اون تیکه از ویدئو رو کات کرد و زیرنویس کرد \\nبریم تو مجازی \\nپخشش کنیم .  "
      ]
     },
     "execution_count": 68,
     "metadata": {},
     "output_type": "execute_result"
    }
   ],
   "source": [
    "# Read all the new tweets collected into a DF so they can be combined with the sarcastic tweets\n",
    "\n",
    "all_new_tweets_master_df = pd.DataFrame(all_new_tweets_master_list, columns = ['user', 'location','date','text'])\n",
    "all_new_tweets_master_df.head(2)"
   ]
  },
  {
   "cell_type": "code",
   "execution_count": 69,
   "metadata": {},
   "outputs": [
    {
     "data": {
      "text/plain": [
       "104937"
      ]
     },
     "execution_count": 69,
     "metadata": {},
     "output_type": "execute_result"
    }
   ],
   "source": [
    "# Check the length of the DF\n",
    "len(all_new_tweets_master_df)"
   ]
  },
  {
   "cell_type": "code",
   "execution_count": 70,
   "metadata": {},
   "outputs": [],
   "source": [
    "# Save a copy of the DF 'all_new_tweets_master_df' containing matching tweets from sarcastic screen names\n",
    "\n",
    "all_new_tweets_master_df.to_csv('all_new_tweets_df3.csv')\n",
    "\n",
    "# Reference: McKinney pg 175"
   ]
  },
  {
   "cell_type": "code",
   "execution_count": null,
   "metadata": {},
   "outputs": [],
   "source": [
    "# Note: the concat step is also coded into the notebook that analyzes tweets"
   ]
  },
  {
   "cell_type": "code",
   "execution_count": 657,
   "metadata": {},
   "outputs": [
    {
     "data": {
      "text/html": [
       "<div>\n",
       "<style scoped>\n",
       "    .dataframe tbody tr th:only-of-type {\n",
       "        vertical-align: middle;\n",
       "    }\n",
       "\n",
       "    .dataframe tbody tr th {\n",
       "        vertical-align: top;\n",
       "    }\n",
       "\n",
       "    .dataframe thead th {\n",
       "        text-align: right;\n",
       "    }\n",
       "</style>\n",
       "<table border=\"1\" class=\"dataframe\">\n",
       "  <thead>\n",
       "    <tr style=\"text-align: right;\">\n",
       "      <th></th>\n",
       "      <th>user</th>\n",
       "      <th>location</th>\n",
       "      <th>date</th>\n",
       "      <th>text</th>\n",
       "    </tr>\n",
       "  </thead>\n",
       "  <tbody>\n",
       "    <tr>\n",
       "      <th>30303</th>\n",
       "      <td>Cave_Art_Films</td>\n",
       "      <td>Stevenage, East</td>\n",
       "      <td>2020-01-29 20:44:31</td>\n",
       "      <td>b'@FondOfBeetles @RadFemme74 @TanyaMLea @babybeginner @Jessica12uk @MorganeOgerBC @LisaTMullin @JPMasters @BigDTwo @intersexfacts @ProgressVan @NannyKimbo @Annie26056655 @EReality01 @SBaumEvansmom @annmariestacey @unwitod @Women_Exist @ZombieTron @EmilyBanting1 @nogenderid @fragrantfred @CTombley @Sz3nna @hughgmeechan @DavidBr21232004 @Phildidgee @transperbole @Karlydownthero1 @Tiktaalik12 @grassynoel5 @TheNotoriousRBF @JamesDeagle1 @RicksterzzzUK @Ted_Nougat @taradawes @Ladyboi_Ace @VMorton9 @ShieldingC @IamCassieCurtis @ElizabethLidd @Sceptical_Woman @JanKaas0 @KatyMontgomerie @Ian99572584 @alisonphipps @BlanchardPhD @VanRapeRelief @JKRowling @PamelaNBuffone ... must ... not... make... snatch ... comment...'</td>\n",
       "    </tr>\n",
       "    <tr>\n",
       "      <th>30304</th>\n",
       "      <td>JRay918</td>\n",
       "      <td>Oklahoma, USA</td>\n",
       "      <td>2020-01-29 21:28:44</td>\n",
       "      <td>b'@SharonIsrael10 @alx And to be fair she gets no witnesses at her trial except ppl who on record claim to hate her and if they attempt to speak well of her their testimony will be revoked'</td>\n",
       "    </tr>\n",
       "    <tr>\n",
       "      <th>30305</th>\n",
       "      <td>RickM1O</td>\n",
       "      <td>Dallas, TX</td>\n",
       "      <td>2020-01-29 18:20:22</td>\n",
       "      <td>b'@1398post @SmithCassidy @WTP4191775 @donciccio807 @JenGRodgers @MaxBoot @AlanDersh Cool story bro...'</td>\n",
       "    </tr>\n",
       "    <tr>\n",
       "      <th>30306</th>\n",
       "      <td>BCCLVR</td>\n",
       "      <td>Illinois</td>\n",
       "      <td>2020-01-29 18:20:52</td>\n",
       "      <td>b'@BachelorABC super petty for the whole Chase situation'</td>\n",
       "    </tr>\n",
       "    <tr>\n",
       "      <th>30307</th>\n",
       "      <td>Mike_Ploucha</td>\n",
       "      <td>Cincinnati, OH</td>\n",
       "      <td>2020-01-29 21:34:28</td>\n",
       "      <td>b\"@KellieMeyerNews @henryrodgersdc @SenatorTimScott Of course. He's #ComplicitCorruptGOP\"</td>\n",
       "    </tr>\n",
       "  </tbody>\n",
       "</table>\n",
       "</div>"
      ],
      "text/plain": [
       "                 user         location                 date  \\\n",
       "30303  Cave_Art_Films  Stevenage, East  2020-01-29 20:44:31   \n",
       "30304         JRay918    Oklahoma, USA  2020-01-29 21:28:44   \n",
       "30305         RickM1O       Dallas, TX  2020-01-29 18:20:22   \n",
       "30306          BCCLVR         Illinois  2020-01-29 18:20:52   \n",
       "30307    Mike_Ploucha   Cincinnati, OH  2020-01-29 21:34:28   \n",
       "\n",
       "                                                                                                                                                                                                                                                                                                                                                                                                                                                                                                                                                                                                                                                                                                                                                  text  \n",
       "30303  b'@FondOfBeetles @RadFemme74 @TanyaMLea @babybeginner @Jessica12uk @MorganeOgerBC @LisaTMullin @JPMasters @BigDTwo @intersexfacts @ProgressVan @NannyKimbo @Annie26056655 @EReality01 @SBaumEvansmom @annmariestacey @unwitod @Women_Exist @ZombieTron @EmilyBanting1 @nogenderid @fragrantfred @CTombley @Sz3nna @hughgmeechan @DavidBr21232004 @Phildidgee @transperbole @Karlydownthero1 @Tiktaalik12 @grassynoel5 @TheNotoriousRBF @JamesDeagle1 @RicksterzzzUK @Ted_Nougat @taradawes @Ladyboi_Ace @VMorton9 @ShieldingC @IamCassieCurtis @ElizabethLidd @Sceptical_Woman @JanKaas0 @KatyMontgomerie @Ian99572584 @alisonphipps @BlanchardPhD @VanRapeRelief @JKRowling @PamelaNBuffone ... must ... not... make... snatch ... comment...'  \n",
       "30304                                                                                                                                                                                                                                                                                                                                                                                                                                                                                                                                                    b'@SharonIsrael10 @alx And to be fair she gets no witnesses at her trial except ppl who on record claim to hate her and if they attempt to speak well of her their testimony will be revoked'  \n",
       "30305                                                                                                                                                                                                                                                                                                                                                                                                                                                                                                                                                                                                                                          b'@1398post @SmithCassidy @WTP4191775 @donciccio807 @JenGRodgers @MaxBoot @AlanDersh Cool story bro...'  \n",
       "30306                                                                                                                                                                                                                                                                                                                                                                                                                                                                                                                                                                                                                                                                                        b'@BachelorABC super petty for the whole Chase situation'  \n",
       "30307                                                                                                                                                                                                                                                                                                                                                                                                                                                                                                                                                                                                                                                        b\"@KellieMeyerNews @henryrodgersdc @SenatorTimScott Of course. He's #ComplicitCorruptGOP\"  "
      ]
     },
     "execution_count": 657,
     "metadata": {},
     "output_type": "execute_result"
    }
   ],
   "source": [
    "# Combine the DFs containing sarcastic and non-sarcastic tweets, respectively to prepare for analysis\n",
    "\n",
    "test = pd.concat([sarc_df,non_sarc_df])\n",
    "test.tail()\n"
   ]
  },
  {
   "cell_type": "code",
   "execution_count": null,
   "metadata": {},
   "outputs": [],
   "source": []
  },
  {
   "cell_type": "code",
   "execution_count": null,
   "metadata": {},
   "outputs": [],
   "source": []
  },
  {
   "cell_type": "code",
   "execution_count": null,
   "metadata": {},
   "outputs": [],
   "source": []
  },
  {
   "cell_type": "code",
   "execution_count": null,
   "metadata": {},
   "outputs": [],
   "source": []
  },
  {
   "cell_type": "code",
   "execution_count": null,
   "metadata": {},
   "outputs": [],
   "source": []
  },
  {
   "cell_type": "markdown",
   "metadata": {},
   "source": [
    "###  DRAFT CODE BELOW"
   ]
  },
  {
   "cell_type": "code",
   "execution_count": null,
   "metadata": {},
   "outputs": [],
   "source": [
    "# Converts the datetime object in the nested list of collected tweets to a string type by iterating through the list, changing the data type and creating a new list\n",
    "# Only need to convert the datetime object to string if I plan to encode the datetime object. I may not need to encode the datetime object considering I can read the ...\n",
    "# ... nested list produced from collecting tweets directly into a DF\n",
    "\n",
    "new_temp = [[user, location, date.strftime('%Y-%m-%d-%H-%M-%S'), text] for user, location, date, text in temp]\n",
    "new_temp\n",
    "\n",
    "# Reference: https://stackoverflow.com/questions/53888148/how-to-change-the-data-type-of-the-second-element-in-a-nested-list\n",
    "# Reference: https://stackoverflow.com/questions/54974579/change-values-in-a-list-using-a-for-loop-python"
   ]
  },
  {
   "cell_type": "code",
   "execution_count": 290,
   "metadata": {},
   "outputs": [
    {
     "data": {
      "text/plain": [
       "b\"b'@AbsCoverage Les grandes multinationales I guess ! #ironic #sarcasm ! It looks like goina to Canadian Tire &amp; sayina :aWho goes to Rona !?a #unebonneraison !?'\""
      ]
     },
     "execution_count": 290,
     "metadata": {},
     "output_type": "execute_result"
    }
   ],
   "source": [
    "# Decodes text to ASCII\n",
    "import unicodedata\n",
    "#unicodedata.normalize('NFKD', tweet.text).encode('ascii','ignore')\n",
    "unicodedata.normalize('NFKD', text).encode('ascii','ignore')\n",
    "# https://stackoverflow.com/questions/45121249/encoding-tweets-to-utf-8-creates-weird-characters-in-python"
   ]
  },
  {
   "cell_type": "code",
   "execution_count": null,
   "metadata": {},
   "outputs": [],
   "source": []
  },
  {
   "cell_type": "code",
   "execution_count": null,
   "metadata": {},
   "outputs": [],
   "source": []
  }
 ],
 "metadata": {
  "kernelspec": {
   "display_name": "Python 3",
   "language": "python",
   "name": "python3"
  },
  "language_info": {
   "codemirror_mode": {
    "name": "ipython",
    "version": 3
   },
   "file_extension": ".py",
   "mimetype": "text/x-python",
   "name": "python",
   "nbconvert_exporter": "python",
   "pygments_lexer": "ipython3",
   "version": "3.7.6"
  }
 },
 "nbformat": 4,
 "nbformat_minor": 4
}
